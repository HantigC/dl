{
 "cells": [
  {
   "cell_type": "code",
   "execution_count": 19,
   "id": "cdebeb12-ba08-49dd-99bc-c7f5fd329fdf",
   "metadata": {},
   "outputs": [],
   "source": [
    "from IPython.core.debugger import set_trace\n",
    "\n",
    "import torch\n",
    "from torch import nn\n",
    "from torch.nn import functional as F\n",
    "from torch.utils.data import DataLoader\n",
    "from tqdm.auto import tqdm\n",
    "import torchvision.datasets as datasets\n",
    "import numpy as np\n",
    "import cv2\n",
    "import matplotlib.pyplot as plt\n",
    "from torchvision.transforms import Compose\n",
    "\n",
    "from src.classification.models.alexnet import AlexNet\n"
   ]
  },
  {
   "cell_type": "code",
   "execution_count": 2,
   "id": "48d1ddef-72d8-47a5-bbfb-0af4056753b0",
   "metadata": {},
   "outputs": [],
   "source": [
    "%matplotlib widget\n",
    "%load_ext autoreload\n",
    "%autoreload 2"
   ]
  },
  {
   "cell_type": "markdown",
   "id": "7562f905-a045-4687-83d6-f5257cc7b6c6",
   "metadata": {
    "tags": []
   },
   "source": [
    "## Model"
   ]
  },
  {
   "cell_type": "markdown",
   "id": "0022eebf-c5b7-4764-9670-286ddad3dc99",
   "metadata": {},
   "source": [
    "### Create Model"
   ]
  },
  {
   "cell_type": "code",
   "execution_count": 3,
   "id": "2b4696f6-1c13-4de3-b172-d2377af8e9f7",
   "metadata": {},
   "outputs": [],
   "source": [
    "alexnet = AlexNet(10)"
   ]
  },
  {
   "cell_type": "code",
   "execution_count": 4,
   "id": "8bab7ca7-8d5a-4ca8-9b84-1355baee826d",
   "metadata": {},
   "outputs": [],
   "source": [
    "cuda = torch.device(\"cuda:2\")"
   ]
  },
  {
   "cell_type": "code",
   "execution_count": 5,
   "id": "e36ca177-af1c-4cf5-b62a-f6c3dfc13d0a",
   "metadata": {},
   "outputs": [],
   "source": [
    "alexnet = alexnet.to(cuda)"
   ]
  },
  {
   "cell_type": "markdown",
   "id": "42efc6f8-b0f8-4a56-bd07-94beb939d48d",
   "metadata": {},
   "source": [
    "## Dataset "
   ]
  },
  {
   "cell_type": "markdown",
   "id": "dbd5b6d4-b5a1-4d12-b704-ef871817a621",
   "metadata": {},
   "source": [
    "### Define Transforms"
   ]
  },
  {
   "cell_type": "code",
   "execution_count": 6,
   "id": "e1bd7df5-94d6-4a3d-a2ec-ea578f48e5b1",
   "metadata": {},
   "outputs": [],
   "source": [
    "def to_rgb(img):\n",
    "    return np.repeat(img[..., None], 3, axis=2)\n",
    "\n",
    "def to_numpy(img):\n",
    "    return np.array(img)\n",
    "\n",
    "def resize(img, size=(224, 224)):\n",
    "    return cv2.resize(img, size)\n",
    "\n",
    "\n",
    "def to_torch(img):\n",
    "    return torch.from_numpy(np.transpose(img, (2, 0, 1)).astype(np.float32))"
   ]
  },
  {
   "cell_type": "code",
   "execution_count": 7,
   "id": "c4be2e7f-e19d-460b-88c6-518e0f4ffc36",
   "metadata": {},
   "outputs": [],
   "source": [
    "img_transform = Compose([\n",
    "    to_numpy,\n",
    "    to_rgb,\n",
    "    resize, \n",
    "    to_torch,\n",
    "])\n",
    "def target_transform(label):\n",
    "    return torch.Tensor(label)"
   ]
  },
  {
   "cell_type": "markdown",
   "id": "0b658c2f-7c7f-4547-bd04-6288e7e7bd88",
   "metadata": {},
   "source": [
    "### Create Dataset"
   ]
  },
  {
   "cell_type": "code",
   "execution_count": 8,
   "id": "bc2f40cd-eddf-482b-9a19-6385075a9531",
   "metadata": {},
   "outputs": [],
   "source": [
    "mnist_testset = datasets.MNIST(\n",
    "    root='./resources/classification/', \n",
    "    train=False, \n",
    "    download=True, \n",
    "    transform=img_transform,\n",
    ")\n",
    "mnist_trainset = datasets.MNIST(\n",
    "    root='./resources/classification/', \n",
    "    train=True, \n",
    "    download=True, \n",
    "    transform=img_transform,\n",
    ")"
   ]
  },
  {
   "cell_type": "markdown",
   "id": "a8868a27-c1e6-4463-bf30-556b2d52ecd8",
   "metadata": {},
   "source": [
    "### Create Dataloader"
   ]
  },
  {
   "cell_type": "code",
   "execution_count": 39,
   "id": "9f2022bf-2221-4c73-a044-b2c1e2c185fc",
   "metadata": {},
   "outputs": [],
   "source": [
    "train_dl = DataLoader(mnist_trainset, batch_size=32)\n",
    "test_dl = DataLoader(mnist_testset, batch_size=32)"
   ]
  },
  {
   "cell_type": "markdown",
   "id": "ce721f61-bf51-468a-a87b-e478a4d6ddce",
   "metadata": {},
   "source": [
    "## Train"
   ]
  },
  {
   "cell_type": "markdown",
   "id": "234a764b-f1f2-4227-bf67-3258dbdaa311",
   "metadata": {},
   "source": [
    "### Define Train Loop"
   ]
  },
  {
   "cell_type": "code",
   "execution_count": 35,
   "id": "1c173f92-1fd8-4d2c-bc4c-102736a3bcc8",
   "metadata": {},
   "outputs": [],
   "source": [
    "def train(model, optimizer, train_dataloader, val_dataloader, loss_fn, epochs):\n",
    "    for epoch in range(epochs):\n",
    "        train_one_epoch(model, oprimizer, train_dataloader, val_dataloader, loss_fn)"
   ]
  },
  {
   "cell_type": "code",
   "execution_count": 36,
   "id": "0585e9ab-15a7-44fa-a937-f7364ebfea6a",
   "metadata": {},
   "outputs": [],
   "source": [
    "def train_one_epoch(model, optimizer, train_dataloader, loss_fn, device):\n",
    "    model.train()\n",
    "    with tqdm(total=len(train_dataloader)) as tbar:\n",
    "        for imgs, target_labels in train_dataloader:\n",
    "            optimizer.zero_grad(set_to_none=True)\n",
    "            pred_labels = model(imgs.to(device))\n",
    "            loss_value = loss_fn(pred_labels, target_labels.to(device))\n",
    "            loss_value.backward()\n",
    "            optimizer.step()\n",
    "            tbar.set_postfix({\"loss\": loss_value})\n",
    "            tbar.update()\n",
    "    "
   ]
  },
  {
   "cell_type": "code",
   "execution_count": 37,
   "id": "0ab29c20-2ed9-4ebd-9071-2f301b2d25d2",
   "metadata": {},
   "outputs": [],
   "source": [
    "optimizer = torch.optim.SGD(alexnet.parameters(), lr=0.001)\n",
    "criterion = nn.CrossEntropyLoss()"
   ]
  },
  {
   "cell_type": "code",
   "execution_count": 40,
   "id": "cda9e588-4f79-4f19-ab72-7538d39db3b6",
   "metadata": {},
   "outputs": [
    {
     "data": {
      "application/vnd.jupyter.widget-view+json": {
       "model_id": "4a6a7f9d033a4b1bae3193ec227cd402",
       "version_major": 2,
       "version_minor": 0
      },
      "text/plain": [
       "  0%|          | 0/1875 [00:00<?, ?it/s]"
      ]
     },
     "metadata": {},
     "output_type": "display_data"
    }
   ],
   "source": [
    "train_one_epoch(alexnet, optimizer, train_dl, criterion, cuda)"
   ]
  }
 ],
 "metadata": {
  "kernelspec": {
   "display_name": "Python 3 (ipykernel)",
   "language": "python",
   "name": "python3"
  },
  "language_info": {
   "codemirror_mode": {
    "name": "ipython",
    "version": 3
   },
   "file_extension": ".py",
   "mimetype": "text/x-python",
   "name": "python",
   "nbconvert_exporter": "python",
   "pygments_lexer": "ipython3",
   "version": "3.7.14"
  }
 },
 "nbformat": 4,
 "nbformat_minor": 5
}
