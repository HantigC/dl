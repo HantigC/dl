{
 "cells": [
  {
   "cell_type": "code",
   "execution_count": 1,
   "id": "cdebeb12-ba08-49dd-99bc-c7f5fd329fdf",
   "metadata": {},
   "outputs": [],
   "source": [
    "from collections import defaultdict\n",
    "import math\n",
    "import queue\n",
    "from pprint import pprint\n",
    "from IPython.core.debugger import set_trace\n",
    "\n",
    "import torch\n",
    "from torch import nn\n",
    "from torch.nn import functional as F\n",
    "from torch.utils.data import DataLoader\n",
    "from tqdm.auto import tqdm\n",
    "import torchvision.datasets as datasets\n",
    "import numpy as np\n",
    "import cv2\n",
    "import matplotlib.pyplot as plt\n",
    "from torchvision.transforms import Compose\n",
    "\n",
    "from src.classification.models.alexnet import AlexNet\n"
   ]
  },
  {
   "cell_type": "code",
   "execution_count": 2,
   "id": "48d1ddef-72d8-47a5-bbfb-0af4056753b0",
   "metadata": {},
   "outputs": [],
   "source": [
    "%matplotlib widget\n",
    "%load_ext autoreload\n",
    "%autoreload 2"
   ]
  },
  {
   "cell_type": "markdown",
   "id": "7562f905-a045-4687-83d6-f5257cc7b6c6",
   "metadata": {
    "tags": []
   },
   "source": [
    "## Model"
   ]
  },
  {
   "cell_type": "markdown",
   "id": "0022eebf-c5b7-4764-9670-286ddad3dc99",
   "metadata": {},
   "source": [
    "### Create Model"
   ]
  },
  {
   "cell_type": "code",
   "execution_count": 3,
   "id": "2b4696f6-1c13-4de3-b172-d2377af8e9f7",
   "metadata": {},
   "outputs": [],
   "source": [
    "alexnet = AlexNet(10)"
   ]
  },
  {
   "cell_type": "code",
   "execution_count": 4,
   "id": "8bab7ca7-8d5a-4ca8-9b84-1355baee826d",
   "metadata": {},
   "outputs": [],
   "source": [
    "cuda = torch.device(\"cuda:2\")"
   ]
  },
  {
   "cell_type": "code",
   "execution_count": 5,
   "id": "e36ca177-af1c-4cf5-b62a-f6c3dfc13d0a",
   "metadata": {},
   "outputs": [],
   "source": [
    "alexnet = alexnet.to(cuda)"
   ]
  },
  {
   "cell_type": "markdown",
   "id": "42efc6f8-b0f8-4a56-bd07-94beb939d48d",
   "metadata": {},
   "source": [
    "## Dataset "
   ]
  },
  {
   "cell_type": "markdown",
   "id": "dbd5b6d4-b5a1-4d12-b704-ef871817a621",
   "metadata": {},
   "source": [
    "### Define Transforms"
   ]
  },
  {
   "cell_type": "code",
   "execution_count": 6,
   "id": "e1bd7df5-94d6-4a3d-a2ec-ea578f48e5b1",
   "metadata": {},
   "outputs": [],
   "source": [
    "def to_rgb(img):\n",
    "    return np.repeat(img[..., None], 3, axis=2)\n",
    "\n",
    "def to_numpy(img):\n",
    "    return np.array(img)\n",
    "\n",
    "def resize(img, size=(224, 224)):\n",
    "    return cv2.resize(img, size)\n",
    "\n",
    "\n",
    "def to_torch(img):\n",
    "    return torch.from_numpy(np.transpose(img, (2, 0, 1)).astype(np.float32))"
   ]
  },
  {
   "cell_type": "code",
   "execution_count": 7,
   "id": "c4be2e7f-e19d-460b-88c6-518e0f4ffc36",
   "metadata": {},
   "outputs": [],
   "source": [
    "img_transform = Compose([\n",
    "    to_numpy,\n",
    "    to_rgb,\n",
    "    resize, \n",
    "    to_torch,\n",
    "])\n",
    "def target_transform(label):\n",
    "    return torch.Tensor(label)"
   ]
  },
  {
   "cell_type": "markdown",
   "id": "0b658c2f-7c7f-4547-bd04-6288e7e7bd88",
   "metadata": {},
   "source": [
    "### Create Dataset"
   ]
  },
  {
   "cell_type": "code",
   "execution_count": 8,
   "id": "bc2f40cd-eddf-482b-9a19-6385075a9531",
   "metadata": {},
   "outputs": [],
   "source": [
    "mnist_testset = datasets.MNIST(\n",
    "    root='./resources/classification/', \n",
    "    train=False, \n",
    "    download=True, \n",
    "    transform=img_transform,\n",
    ")\n",
    "mnist_trainset = datasets.MNIST(\n",
    "    root='./resources/classification/', \n",
    "    train=True, \n",
    "    download=True, \n",
    "    transform=img_transform,\n",
    ")"
   ]
  },
  {
   "cell_type": "markdown",
   "id": "a8868a27-c1e6-4463-bf30-556b2d52ecd8",
   "metadata": {},
   "source": [
    "### Create Dataloader"
   ]
  },
  {
   "cell_type": "code",
   "execution_count": 9,
   "id": "9f2022bf-2221-4c73-a044-b2c1e2c185fc",
   "metadata": {},
   "outputs": [],
   "source": [
    "train_dl = DataLoader(mnist_trainset, batch_size=32)\n",
    "test_dl = DataLoader(mnist_testset, batch_size=32)"
   ]
  },
  {
   "cell_type": "markdown",
   "id": "32821e35-614e-4f61-89a9-907bd2da6522",
   "metadata": {},
   "source": [
    "## Evaluation"
   ]
  },
  {
   "cell_type": "code",
   "execution_count": 10,
   "id": "ae397389-5862-460e-ba1a-fd70b74aef45",
   "metadata": {},
   "outputs": [],
   "source": [
    "class WindowCollector:\n",
    "    \n",
    "    def __init__(self, window_size=None):\n",
    "        self._windows = defaultdict(lambda: queue.deque(maxlen=window_size))\n",
    "        \n",
    "    def add_value(self, name, value):\n",
    "        self._windows[name].append(value)\n",
    "        \n",
    "    def get_value(self, name, apply=np.mean):\n",
    "        return apply(self._windows[name])\n",
    "    \n",
    "    def get_summary(self, apply=np.mean):\n",
    "        return {k: apply(v) for k, v in self._windows.items()}"
   ]
  },
  {
   "cell_type": "code",
   "execution_count": 11,
   "id": "6dbefbd0-797a-4449-a962-34c0f2d425d1",
   "metadata": {},
   "outputs": [],
   "source": [
    "class StepCollector:\n",
    "    def __init__(self, steps):\n",
    "        self._steps = steps\n",
    "        self._accumulators = defaultdict(int)\n",
    "        \n",
    "    def add_value(self, name, value):\n",
    "        self._accumulators[name] += value / self._steps\n",
    "        \n",
    "    def get_value(self, name):\n",
    "        return self._accumulators[name]\n",
    "    \n",
    "    def get_summary(self):\n",
    "        return {k: v for k, v in self._accumulators.items()}"
   ]
  },
  {
   "cell_type": "code",
   "execution_count": 12,
   "id": "3166c016-39d6-480e-8810-d90f3bda33a6",
   "metadata": {},
   "outputs": [],
   "source": [
    "class ClassificationMetrics:\n",
    "    \n",
    "    def __init__(self):\n",
    "        self._confussion_matrix = defaultdict(lambda: defaultdict(int))\n",
    "    \n",
    "    def add(self, gt, pred):\n",
    "        self._confussion_matrix[gt][pred] += 1\n",
    "        \n",
    "    def adds(self, gts, preds):\n",
    "        for gt, pred in zip(gts, preds):\n",
    "            self.add(gt, pred)\n",
    "            \n",
    "    @property\n",
    "    def total(self):\n",
    "        return sum(\n",
    "            v \n",
    "            for vs in self._confussion_matrix.values() \n",
    "            for v in vs.values()\n",
    "        )\n",
    "    \n",
    "    @property\n",
    "    def accuracy(self):\n",
    "        return sum(\n",
    "            self._confussion_matrix[label][label] \n",
    "            for label in self._confussion_matrix.keys()\n",
    "        ) / self.total\n",
    "    \n",
    "    def get_summary(self):\n",
    "        return {\"accuracy\": self.accuracy}\n",
    "        "
   ]
  },
  {
   "cell_type": "markdown",
   "id": "ce721f61-bf51-468a-a87b-e478a4d6ddce",
   "metadata": {},
   "source": [
    "## Train"
   ]
  },
  {
   "cell_type": "markdown",
   "id": "234a764b-f1f2-4227-bf67-3258dbdaa311",
   "metadata": {},
   "source": [
    "### Define Train Loop"
   ]
  },
  {
   "cell_type": "code",
   "execution_count": 13,
   "id": "64c6f2b0-4cf5-446e-9324-6062046802c6",
   "metadata": {},
   "outputs": [],
   "source": [
    "def transpose_history(fit_history):\n",
    "    epoch_sumarries = defaultdict(lambda: defaultdict(list))\n",
    "    def _transpose(stage, epoch_sumarry):\n",
    "        for name, val in epoch_sumarry[stage].items():\n",
    "            epoch_sumarries[name][stage].append(val)\n",
    "            \n",
    "    for epoch_summary in fit_history:\n",
    "        _transpose(\"train\", epoch_summary)\n",
    "        _transpose(\"eval\", epoch_summary)\n",
    "    return {k: dict(v) for k, v in epoch_sumarries.items()}"
   ]
  },
  {
   "cell_type": "code",
   "execution_count": 14,
   "id": "b75e55f8-bb4d-479b-95d3-e3d07c5c782e",
   "metadata": {},
   "outputs": [],
   "source": [
    "def plot_summary(summary):\n",
    "    for name, values_mapp in summary.items():\n",
    "        fig, ax = plt.subplots()\n",
    "        ax.set_title(name)\n",
    "        ax.set_xlabel(\"epoch\")\n",
    "        for stage_name, values in values_mapp.items():\n",
    "            ax.plot(values, label=stage_name)\n",
    "            \n",
    "        ax.legend()\n",
    "        plt.show()\n",
    "    "
   ]
  },
  {
   "cell_type": "code",
   "execution_count": 15,
   "id": "58685135-8d3f-4b74-a8b3-a0abb0b5b91a",
   "metadata": {},
   "outputs": [],
   "source": [
    "def evaluate_one_epoch(model, optimizer, val_dataloader, loss_fn, device):\n",
    "    collector = WindowCollector(window_size=20)\n",
    "    epoch_collector = StepCollector(steps=len(val_dataloader))\n",
    "    metrics = ClassificationMetrics()\n",
    "    \n",
    "    model.eval()\n",
    "    with tqdm(total=len(val_dataloader)) as tbar:\n",
    "        with torch.no_grad():\n",
    "            for imgs, target_labels in val_dataloader:\n",
    "                optimizer.zero_grad(set_to_none=True)\n",
    "                labels_probs = model(imgs.to(device))\n",
    "                loss_value = loss_fn(labels_probs, target_labels.to(device))\n",
    "\n",
    "                metrics.adds(\n",
    "                    target_labels.numpy(), \n",
    "                    torch.argmax(labels_probs, dim=1).cpu().numpy(),\n",
    "                )\n",
    "                epoch_collector.add_value(\"loss\", loss_value.item())\n",
    "                collector.add_value(\"loss\", loss_value.item())\n",
    "                tbar.set_postfix({**collector.get_summary(), **metrics.get_summary()})\n",
    "                tbar.update()\n",
    "    return {**epoch_collector.get_summary(), **metrics.get_summary()}\n"
   ]
  },
  {
   "cell_type": "code",
   "execution_count": 16,
   "id": "0585e9ab-15a7-44fa-a937-f7364ebfea6a",
   "metadata": {},
   "outputs": [],
   "source": [
    "def train_one_epoch(model, optimizer, train_dataloader, loss_fn, device):\n",
    "    collector = WindowCollector(window_size=20)\n",
    "    epoch_collector = StepCollector(steps=len(train_dataloader))\n",
    "    metrics = ClassificationMetrics()\n",
    "    \n",
    "    model.train()\n",
    "    with tqdm(total=len(train_dataloader)) as tbar:\n",
    "        for imgs, target_labels in train_dataloader:\n",
    "            optimizer.zero_grad(set_to_none=True)\n",
    "            labels_probs = model(imgs.to(device))\n",
    "            loss_value = loss_fn(labels_probs, target_labels.to(device))\n",
    "            loss_value.backward()\n",
    "            optimizer.step()\n",
    "            \n",
    "            metrics.adds(\n",
    "                target_labels.numpy(), \n",
    "                torch.argmax(labels_probs, dim=1).cpu().numpy(),\n",
    "            )\n",
    "            epoch_collector.add_value(\"loss\", loss_value.item())\n",
    "            collector.add_value(\"loss\", loss_value.item())\n",
    "            tbar.set_postfix({**collector.get_summary(), **metrics.get_summary()})\n",
    "            tbar.update()\n",
    "    return {**epoch_collector.get_summary(), **metrics.get_summary()}\n",
    "    "
   ]
  },
  {
   "cell_type": "code",
   "execution_count": 17,
   "id": "0ab29c20-2ed9-4ebd-9071-2f301b2d25d2",
   "metadata": {},
   "outputs": [],
   "source": [
    "optimizer = torch.optim.SGD(alexnet.parameters(), lr=0.001)\n",
    "criterion = nn.CrossEntropyLoss()"
   ]
  },
  {
   "cell_type": "code",
   "execution_count": 18,
   "id": "661afd18-4821-46ec-ac16-447d5fa96428",
   "metadata": {},
   "outputs": [],
   "source": [
    "def fit(model, optimizer, train_dataloader, eval_dataloader, loss_fn, device, epochs):\n",
    "    fit_summary = []\n",
    "    for epoch in range(1, epochs):\n",
    "        print(f\"Epoch: {epoch:02d}\")\n",
    "        train_summary = train_one_epoch(model, optimizer, train_dataloader, loss_fn, device)\n",
    "        print(\"Train Summary:\")\n",
    "        pprint(train_summary)\n",
    "        eval_summary = evaluate_one_epoch(model, optimizer, eval_dataloader, loss_fn, device)\n",
    "        print(\"Eval Summary:\")\n",
    "        pprint(eval_summary)\n",
    "        fit_summary.append({\"train\": train_summary, \"eval\": eval_summary})\n",
    "        \n",
    "    return fit_summary\n",
    "    "
   ]
  },
  {
   "cell_type": "markdown",
   "id": "947b6238-d5f0-4b9b-85c4-87d917ca7bbb",
   "metadata": {},
   "source": [
    "### Fit"
   ]
  },
  {
   "cell_type": "code",
   "execution_count": null,
   "id": "8ac00d1e-6dcd-4a02-9e16-4ab6abf12833",
   "metadata": {},
   "outputs": [
    {
     "name": "stdout",
     "output_type": "stream",
     "text": [
      "Epoch: 01\n"
     ]
    },
    {
     "data": {
      "application/vnd.jupyter.widget-view+json": {
       "model_id": "78fb18f94e0b452087447e3137453db4",
       "version_major": 2,
       "version_minor": 0
      },
      "text/plain": [
       "  0%|          | 0/1875 [00:00<?, ?it/s]"
      ]
     },
     "metadata": {},
     "output_type": "display_data"
    },
    {
     "name": "stdout",
     "output_type": "stream",
     "text": [
      "Train Summary:\n",
      "{'accuracy': 0.8448833333333333, 'loss': 0.47970696344189256}\n"
     ]
    },
    {
     "data": {
      "application/vnd.jupyter.widget-view+json": {
       "model_id": "9d800742cd8b4535bf622369b18db3e7",
       "version_major": 2,
       "version_minor": 0
      },
      "text/plain": [
       "  0%|          | 0/313 [00:00<?, ?it/s]"
      ]
     },
     "metadata": {},
     "output_type": "display_data"
    },
    {
     "name": "stdout",
     "output_type": "stream",
     "text": [
      "Eval Summary:\n",
      "{'accuracy': 0.9661, 'loss': 0.10279671954546722}\n",
      "Epoch: 02\n"
     ]
    },
    {
     "data": {
      "application/vnd.jupyter.widget-view+json": {
       "model_id": "b051a159ca78475ead8cb691f5152987",
       "version_major": 2,
       "version_minor": 0
      },
      "text/plain": [
       "  0%|          | 0/1875 [00:00<?, ?it/s]"
      ]
     },
     "metadata": {},
     "output_type": "display_data"
    },
    {
     "name": "stdout",
     "output_type": "stream",
     "text": [
      "Train Summary:\n",
      "{'accuracy': 0.9533, 'loss': 0.14900351050912106}\n"
     ]
    },
    {
     "data": {
      "application/vnd.jupyter.widget-view+json": {
       "model_id": "af7a17680fc347ef823405c0879f3bae",
       "version_major": 2,
       "version_minor": 0
      },
      "text/plain": [
       "  0%|          | 0/313 [00:00<?, ?it/s]"
      ]
     },
     "metadata": {},
     "output_type": "display_data"
    },
    {
     "name": "stdout",
     "output_type": "stream",
     "text": [
      "Eval Summary:\n",
      "{'accuracy': 0.9788, 'loss': 0.06125199079247431}\n",
      "Epoch: 03\n"
     ]
    },
    {
     "data": {
      "application/vnd.jupyter.widget-view+json": {
       "model_id": "1a9966e093d142f38adbc151bb2250fb",
       "version_major": 2,
       "version_minor": 0
      },
      "text/plain": [
       "  0%|          | 0/1875 [00:00<?, ?it/s]"
      ]
     },
     "metadata": {},
     "output_type": "display_data"
    },
    {
     "name": "stdout",
     "output_type": "stream",
     "text": [
      "Train Summary:\n",
      "{'accuracy': 0.9662666666666667, 'loss': 0.10716142473944151}\n"
     ]
    },
    {
     "data": {
      "application/vnd.jupyter.widget-view+json": {
       "model_id": "06f3019cbd224362bebfb49d581f2db4",
       "version_major": 2,
       "version_minor": 0
      },
      "text/plain": [
       "  0%|          | 0/313 [00:00<?, ?it/s]"
      ]
     },
     "metadata": {},
     "output_type": "display_data"
    },
    {
     "name": "stdout",
     "output_type": "stream",
     "text": [
      "Eval Summary:\n",
      "{'accuracy': 0.9832, 'loss': 0.048623147603634745}\n",
      "Epoch: 04\n"
     ]
    },
    {
     "data": {
      "application/vnd.jupyter.widget-view+json": {
       "model_id": "b123c84c83a04206baa264b463af15ee",
       "version_major": 2,
       "version_minor": 0
      },
      "text/plain": [
       "  0%|          | 0/1875 [00:00<?, ?it/s]"
      ]
     },
     "metadata": {},
     "output_type": "display_data"
    },
    {
     "name": "stdout",
     "output_type": "stream",
     "text": [
      "Train Summary:\n",
      "{'accuracy': 0.9732, 'loss': 0.08794351866031071}\n"
     ]
    },
    {
     "data": {
      "application/vnd.jupyter.widget-view+json": {
       "model_id": "09631094165b43be8ef7ee3259c842fe",
       "version_major": 2,
       "version_minor": 0
      },
      "text/plain": [
       "  0%|          | 0/313 [00:00<?, ?it/s]"
      ]
     },
     "metadata": {},
     "output_type": "display_data"
    },
    {
     "name": "stdout",
     "output_type": "stream",
     "text": [
      "Eval Summary:\n",
      "{'accuracy': 0.9858, 'loss': 0.042730312201746966}\n",
      "Epoch: 05\n"
     ]
    },
    {
     "data": {
      "application/vnd.jupyter.widget-view+json": {
       "model_id": "1137c6e16a2841da91000d2f93fc7f6a",
       "version_major": 2,
       "version_minor": 0
      },
      "text/plain": [
       "  0%|          | 0/1875 [00:00<?, ?it/s]"
      ]
     },
     "metadata": {},
     "output_type": "display_data"
    },
    {
     "name": "stdout",
     "output_type": "stream",
     "text": [
      "Train Summary:\n",
      "{'accuracy': 0.9759666666666666, 'loss': 0.07663478350276128}\n"
     ]
    },
    {
     "data": {
      "application/vnd.jupyter.widget-view+json": {
       "model_id": "8442521331e947309122044236883c57",
       "version_major": 2,
       "version_minor": 0
      },
      "text/plain": [
       "  0%|          | 0/313 [00:00<?, ?it/s]"
      ]
     },
     "metadata": {},
     "output_type": "display_data"
    },
    {
     "name": "stdout",
     "output_type": "stream",
     "text": [
      "Eval Summary:\n",
      "{'accuracy': 0.9886, 'loss': 0.03369428384032794}\n",
      "Epoch: 06\n"
     ]
    },
    {
     "data": {
      "application/vnd.jupyter.widget-view+json": {
       "model_id": "c2d226501c2047a1833854a61e052737",
       "version_major": 2,
       "version_minor": 0
      },
      "text/plain": [
       "  0%|          | 0/1875 [00:00<?, ?it/s]"
      ]
     },
     "metadata": {},
     "output_type": "display_data"
    },
    {
     "name": "stdout",
     "output_type": "stream",
     "text": [
      "Train Summary:\n",
      "{'accuracy': 0.9798166666666667, 'loss': 0.06578797359852272}\n"
     ]
    },
    {
     "data": {
      "application/vnd.jupyter.widget-view+json": {
       "model_id": "751b149a4c1045cda63423986f3db206",
       "version_major": 2,
       "version_minor": 0
      },
      "text/plain": [
       "  0%|          | 0/313 [00:00<?, ?it/s]"
      ]
     },
     "metadata": {},
     "output_type": "display_data"
    },
    {
     "name": "stdout",
     "output_type": "stream",
     "text": [
      "Eval Summary:\n",
      "{'accuracy': 0.9897, 'loss': 0.029566392236276925}\n",
      "Epoch: 07\n"
     ]
    },
    {
     "data": {
      "application/vnd.jupyter.widget-view+json": {
       "model_id": "7d5ed6ec745f4659bd40fdd727a37314",
       "version_major": 2,
       "version_minor": 0
      },
      "text/plain": [
       "  0%|          | 0/1875 [00:00<?, ?it/s]"
      ]
     },
     "metadata": {},
     "output_type": "display_data"
    },
    {
     "name": "stdout",
     "output_type": "stream",
     "text": [
      "Train Summary:\n",
      "{'accuracy': 0.9814833333333334, 'loss': 0.05863642785138595}\n"
     ]
    },
    {
     "data": {
      "application/vnd.jupyter.widget-view+json": {
       "model_id": "2470bb3b22ec455ebce7a151567bd54b",
       "version_major": 2,
       "version_minor": 0
      },
      "text/plain": [
       "  0%|          | 0/313 [00:00<?, ?it/s]"
      ]
     },
     "metadata": {},
     "output_type": "display_data"
    },
    {
     "name": "stdout",
     "output_type": "stream",
     "text": [
      "Eval Summary:\n",
      "{'accuracy': 0.9888, 'loss': 0.031224200829822215}\n",
      "Epoch: 08\n"
     ]
    },
    {
     "data": {
      "application/vnd.jupyter.widget-view+json": {
       "model_id": "2a222837ca594050b07f6ea32e3e56f5",
       "version_major": 2,
       "version_minor": 0
      },
      "text/plain": [
       "  0%|          | 0/1875 [00:00<?, ?it/s]"
      ]
     },
     "metadata": {},
     "output_type": "display_data"
    },
    {
     "name": "stdout",
     "output_type": "stream",
     "text": [
      "Train Summary:\n",
      "{'accuracy': 0.9826833333333334, 'loss': 0.0554223232410383}\n"
     ]
    },
    {
     "data": {
      "application/vnd.jupyter.widget-view+json": {
       "model_id": "58f4f207875243b0938b3dc9210432f7",
       "version_major": 2,
       "version_minor": 0
      },
      "text/plain": [
       "  0%|          | 0/313 [00:00<?, ?it/s]"
      ]
     },
     "metadata": {},
     "output_type": "display_data"
    },
    {
     "name": "stdout",
     "output_type": "stream",
     "text": [
      "Eval Summary:\n",
      "{'accuracy': 0.9899, 'loss': 0.02657298296735783}\n",
      "Epoch: 09\n"
     ]
    },
    {
     "data": {
      "application/vnd.jupyter.widget-view+json": {
       "model_id": "cb240fff7ae144e3a5c5c52b8b83de09",
       "version_major": 2,
       "version_minor": 0
      },
      "text/plain": [
       "  0%|          | 0/1875 [00:00<?, ?it/s]"
      ]
     },
     "metadata": {},
     "output_type": "display_data"
    },
    {
     "name": "stdout",
     "output_type": "stream",
     "text": [
      "Train Summary:\n",
      "{'accuracy': 0.9833166666666666, 'loss': 0.05199112215039002}\n"
     ]
    },
    {
     "data": {
      "application/vnd.jupyter.widget-view+json": {
       "model_id": "f3bea8b6ace2454aa7a3e0ed56a29b8c",
       "version_major": 2,
       "version_minor": 0
      },
      "text/plain": [
       "  0%|          | 0/313 [00:00<?, ?it/s]"
      ]
     },
     "metadata": {},
     "output_type": "display_data"
    },
    {
     "name": "stdout",
     "output_type": "stream",
     "text": [
      "Eval Summary:\n",
      "{'accuracy': 0.9914, 'loss': 0.02503933014123464}\n",
      "Epoch: 10\n"
     ]
    },
    {
     "data": {
      "application/vnd.jupyter.widget-view+json": {
       "model_id": "ce9801c17a2c41faa927d6440c8f3fa0",
       "version_major": 2,
       "version_minor": 0
      },
      "text/plain": [
       "  0%|          | 0/1875 [00:00<?, ?it/s]"
      ]
     },
     "metadata": {},
     "output_type": "display_data"
    },
    {
     "name": "stdout",
     "output_type": "stream",
     "text": [
      "Train Summary:\n",
      "{'accuracy': 0.9847666666666667, 'loss': 0.04812954092305927}\n"
     ]
    },
    {
     "data": {
      "application/vnd.jupyter.widget-view+json": {
       "model_id": "de36d7cd1d0c454f99e3b4a316a5ceee",
       "version_major": 2,
       "version_minor": 0
      },
      "text/plain": [
       "  0%|          | 0/313 [00:00<?, ?it/s]"
      ]
     },
     "metadata": {},
     "output_type": "display_data"
    },
    {
     "name": "stdout",
     "output_type": "stream",
     "text": [
      "Eval Summary:\n",
      "{'accuracy': 0.9902, 'loss': 0.027985171358777337}\n",
      "Epoch: 11\n"
     ]
    },
    {
     "data": {
      "application/vnd.jupyter.widget-view+json": {
       "model_id": "850b1b3a2d2546c18759ecc33df42369",
       "version_major": 2,
       "version_minor": 0
      },
      "text/plain": [
       "  0%|          | 0/1875 [00:00<?, ?it/s]"
      ]
     },
     "metadata": {},
     "output_type": "display_data"
    },
    {
     "name": "stdout",
     "output_type": "stream",
     "text": [
      "Train Summary:\n",
      "{'accuracy': 0.9866666666666667, 'loss': 0.04340539852833217}\n"
     ]
    },
    {
     "data": {
      "application/vnd.jupyter.widget-view+json": {
       "model_id": "5d2351abe90b4c01a8210d652fe95a34",
       "version_major": 2,
       "version_minor": 0
      },
      "text/plain": [
       "  0%|          | 0/313 [00:00<?, ?it/s]"
      ]
     },
     "metadata": {},
     "output_type": "display_data"
    },
    {
     "name": "stdout",
     "output_type": "stream",
     "text": [
      "Eval Summary:\n",
      "{'accuracy': 0.9918, 'loss': 0.02342634753262546}\n",
      "Epoch: 12\n"
     ]
    },
    {
     "data": {
      "application/vnd.jupyter.widget-view+json": {
       "model_id": "194845495da74a1ea11f2a9f67871038",
       "version_major": 2,
       "version_minor": 0
      },
      "text/plain": [
       "  0%|          | 0/1875 [00:00<?, ?it/s]"
      ]
     },
     "metadata": {},
     "output_type": "display_data"
    },
    {
     "name": "stdout",
     "output_type": "stream",
     "text": [
      "Train Summary:\n",
      "{'accuracy': 0.9868166666666667, 'loss': 0.04029145389117764}\n"
     ]
    },
    {
     "data": {
      "application/vnd.jupyter.widget-view+json": {
       "model_id": "0c470050ca904a778c8dd18c7eb4f39e",
       "version_major": 2,
       "version_minor": 0
      },
      "text/plain": [
       "  0%|          | 0/313 [00:00<?, ?it/s]"
      ]
     },
     "metadata": {},
     "output_type": "display_data"
    },
    {
     "name": "stdout",
     "output_type": "stream",
     "text": [
      "Eval Summary:\n",
      "{'accuracy': 0.9916, 'loss': 0.02359235221286998}\n",
      "Epoch: 13\n"
     ]
    },
    {
     "data": {
      "application/vnd.jupyter.widget-view+json": {
       "model_id": "5e8693a83f354a34a45cb60d7d7e9545",
       "version_major": 2,
       "version_minor": 0
      },
      "text/plain": [
       "  0%|          | 0/1875 [00:00<?, ?it/s]"
      ]
     },
     "metadata": {},
     "output_type": "display_data"
    },
    {
     "name": "stdout",
     "output_type": "stream",
     "text": [
      "Train Summary:\n",
      "{'accuracy': 0.9875, 'loss': 0.039926408004822875}\n"
     ]
    },
    {
     "data": {
      "application/vnd.jupyter.widget-view+json": {
       "model_id": "f1851a4ab1b747f1957614323021a4cb",
       "version_major": 2,
       "version_minor": 0
      },
      "text/plain": [
       "  0%|          | 0/313 [00:00<?, ?it/s]"
      ]
     },
     "metadata": {},
     "output_type": "display_data"
    },
    {
     "name": "stdout",
     "output_type": "stream",
     "text": [
      "Eval Summary:\n",
      "{'accuracy': 0.9918, 'loss': 0.022465981879562617}\n",
      "Epoch: 14\n"
     ]
    },
    {
     "data": {
      "application/vnd.jupyter.widget-view+json": {
       "model_id": "8cf0ff3c44564e06891494135985e941",
       "version_major": 2,
       "version_minor": 0
      },
      "text/plain": [
       "  0%|          | 0/1875 [00:00<?, ?it/s]"
      ]
     },
     "metadata": {},
     "output_type": "display_data"
    },
    {
     "name": "stdout",
     "output_type": "stream",
     "text": [
      "Train Summary:\n",
      "{'accuracy': 0.9884833333333334, 'loss': 0.03835405771461474}\n"
     ]
    },
    {
     "data": {
      "application/vnd.jupyter.widget-view+json": {
       "model_id": "2b720ad5ad1a4935b44b9c2784ecff07",
       "version_major": 2,
       "version_minor": 0
      },
      "text/plain": [
       "  0%|          | 0/313 [00:00<?, ?it/s]"
      ]
     },
     "metadata": {},
     "output_type": "display_data"
    },
    {
     "name": "stdout",
     "output_type": "stream",
     "text": [
      "Eval Summary:\n",
      "{'accuracy': 0.9924, 'loss': 0.02170116978364756}\n",
      "Epoch: 15\n"
     ]
    },
    {
     "data": {
      "application/vnd.jupyter.widget-view+json": {
       "model_id": "84cbc539787340b8a6a05f6c98ea95c0",
       "version_major": 2,
       "version_minor": 0
      },
      "text/plain": [
       "  0%|          | 0/1875 [00:00<?, ?it/s]"
      ]
     },
     "metadata": {},
     "output_type": "display_data"
    },
    {
     "name": "stdout",
     "output_type": "stream",
     "text": [
      "Train Summary:\n",
      "{'accuracy': 0.9889833333333333, 'loss': 0.035864001704469094}\n"
     ]
    },
    {
     "data": {
      "application/vnd.jupyter.widget-view+json": {
       "model_id": "a6676534a0e948cbb5ee018f8fb9bdaa",
       "version_major": 2,
       "version_minor": 0
      },
      "text/plain": [
       "  0%|          | 0/313 [00:00<?, ?it/s]"
      ]
     },
     "metadata": {},
     "output_type": "display_data"
    },
    {
     "name": "stdout",
     "output_type": "stream",
     "text": [
      "Eval Summary:\n",
      "{'accuracy': 0.9921, 'loss': 0.022222674085371364}\n",
      "Epoch: 16\n"
     ]
    },
    {
     "data": {
      "application/vnd.jupyter.widget-view+json": {
       "model_id": "b3171518c0e842aba436fcd490839676",
       "version_major": 2,
       "version_minor": 0
      },
      "text/plain": [
       "  0%|          | 0/1875 [00:00<?, ?it/s]"
      ]
     },
     "metadata": {},
     "output_type": "display_data"
    },
    {
     "name": "stdout",
     "output_type": "stream",
     "text": [
      "Train Summary:\n",
      "{'accuracy': 0.98955, 'loss': 0.03517664657823042}\n"
     ]
    },
    {
     "data": {
      "application/vnd.jupyter.widget-view+json": {
       "model_id": "3afe22be5ca14a7aa30776d9badd8d9d",
       "version_major": 2,
       "version_minor": 0
      },
      "text/plain": [
       "  0%|          | 0/313 [00:00<?, ?it/s]"
      ]
     },
     "metadata": {},
     "output_type": "display_data"
    },
    {
     "name": "stdout",
     "output_type": "stream",
     "text": [
      "Eval Summary:\n",
      "{'accuracy': 0.992, 'loss': 0.020608707725913607}\n",
      "Epoch: 17\n"
     ]
    },
    {
     "data": {
      "application/vnd.jupyter.widget-view+json": {
       "model_id": "23fec4a621174276b2ef242921026da0",
       "version_major": 2,
       "version_minor": 0
      },
      "text/plain": [
       "  0%|          | 0/1875 [00:00<?, ?it/s]"
      ]
     },
     "metadata": {},
     "output_type": "display_data"
    },
    {
     "name": "stdout",
     "output_type": "stream",
     "text": [
      "Train Summary:\n",
      "{'accuracy': 0.9895, 'loss': 0.034267326260680214}\n"
     ]
    },
    {
     "data": {
      "application/vnd.jupyter.widget-view+json": {
       "model_id": "3ffaba82a19e4e34aac9d08cab782568",
       "version_major": 2,
       "version_minor": 0
      },
      "text/plain": [
       "  0%|          | 0/313 [00:00<?, ?it/s]"
      ]
     },
     "metadata": {},
     "output_type": "display_data"
    },
    {
     "name": "stdout",
     "output_type": "stream",
     "text": [
      "Eval Summary:\n",
      "{'accuracy': 0.9926, 'loss': 0.020296631498098808}\n",
      "Epoch: 18\n"
     ]
    },
    {
     "data": {
      "application/vnd.jupyter.widget-view+json": {
       "model_id": "4234636caaef4ea0aaeb1e0b61cb2207",
       "version_major": 2,
       "version_minor": 0
      },
      "text/plain": [
       "  0%|          | 0/1875 [00:00<?, ?it/s]"
      ]
     },
     "metadata": {},
     "output_type": "display_data"
    },
    {
     "name": "stdout",
     "output_type": "stream",
     "text": [
      "Train Summary:\n",
      "{'accuracy': 0.9904666666666667, 'loss': 0.03179289758417485}\n"
     ]
    },
    {
     "data": {
      "application/vnd.jupyter.widget-view+json": {
       "model_id": "e0cc050a5a8743079b1331ec56c52b56",
       "version_major": 2,
       "version_minor": 0
      },
      "text/plain": [
       "  0%|          | 0/313 [00:00<?, ?it/s]"
      ]
     },
     "metadata": {},
     "output_type": "display_data"
    },
    {
     "name": "stdout",
     "output_type": "stream",
     "text": [
      "Eval Summary:\n",
      "{'accuracy': 0.993, 'loss': 0.019351836343564983}\n",
      "Epoch: 19\n"
     ]
    },
    {
     "data": {
      "application/vnd.jupyter.widget-view+json": {
       "model_id": "5008e51e39d6411abccfd6fdec063211",
       "version_major": 2,
       "version_minor": 0
      },
      "text/plain": [
       "  0%|          | 0/1875 [00:00<?, ?it/s]"
      ]
     },
     "metadata": {},
     "output_type": "display_data"
    },
    {
     "name": "stdout",
     "output_type": "stream",
     "text": [
      "Train Summary:\n",
      "{'accuracy': 0.9902666666666666, 'loss': 0.0295259728500833}\n"
     ]
    },
    {
     "data": {
      "application/vnd.jupyter.widget-view+json": {
       "model_id": "a828f1d68f6b4c7fb4fa5de9432e83d1",
       "version_major": 2,
       "version_minor": 0
      },
      "text/plain": [
       "  0%|          | 0/313 [00:00<?, ?it/s]"
      ]
     },
     "metadata": {},
     "output_type": "display_data"
    },
    {
     "name": "stdout",
     "output_type": "stream",
     "text": [
      "Eval Summary:\n",
      "{'accuracy': 0.9922, 'loss': 0.021169305695440795}\n",
      "Epoch: 20\n"
     ]
    },
    {
     "data": {
      "application/vnd.jupyter.widget-view+json": {
       "model_id": "56c8f496bda746a8b3830f6cb5bf4dd1",
       "version_major": 2,
       "version_minor": 0
      },
      "text/plain": [
       "  0%|          | 0/1875 [00:00<?, ?it/s]"
      ]
     },
     "metadata": {},
     "output_type": "display_data"
    },
    {
     "name": "stdout",
     "output_type": "stream",
     "text": [
      "Train Summary:\n",
      "{'accuracy': 0.99085, 'loss': 0.02915906455814645}\n"
     ]
    },
    {
     "data": {
      "application/vnd.jupyter.widget-view+json": {
       "model_id": "13be65e0fd444af7ae47dff3c475a86a",
       "version_major": 2,
       "version_minor": 0
      },
      "text/plain": [
       "  0%|          | 0/313 [00:00<?, ?it/s]"
      ]
     },
     "metadata": {},
     "output_type": "display_data"
    },
    {
     "name": "stdout",
     "output_type": "stream",
     "text": [
      "Eval Summary:\n",
      "{'accuracy': 0.9934, 'loss': 0.01819612668190567}\n",
      "Epoch: 21\n"
     ]
    },
    {
     "data": {
      "application/vnd.jupyter.widget-view+json": {
       "model_id": "c506a5f53aab49aa8cf3ddc30c37400f",
       "version_major": 2,
       "version_minor": 0
      },
      "text/plain": [
       "  0%|          | 0/1875 [00:00<?, ?it/s]"
      ]
     },
     "metadata": {},
     "output_type": "display_data"
    },
    {
     "name": "stdout",
     "output_type": "stream",
     "text": [
      "Train Summary:\n",
      "{'accuracy': 0.99105, 'loss': 0.028113951960425296}\n"
     ]
    },
    {
     "data": {
      "application/vnd.jupyter.widget-view+json": {
       "model_id": "f961af5e8d2b412d9f213c571b2d799e",
       "version_major": 2,
       "version_minor": 0
      },
      "text/plain": [
       "  0%|          | 0/313 [00:00<?, ?it/s]"
      ]
     },
     "metadata": {},
     "output_type": "display_data"
    },
    {
     "name": "stdout",
     "output_type": "stream",
     "text": [
      "Eval Summary:\n",
      "{'accuracy': 0.9922, 'loss': 0.02323138157204082}\n",
      "Epoch: 22\n"
     ]
    },
    {
     "data": {
      "application/vnd.jupyter.widget-view+json": {
       "model_id": "b390a08ea13345e198e4bf94ef5ecf03",
       "version_major": 2,
       "version_minor": 0
      },
      "text/plain": [
       "  0%|          | 0/1875 [00:00<?, ?it/s]"
      ]
     },
     "metadata": {},
     "output_type": "display_data"
    },
    {
     "name": "stdout",
     "output_type": "stream",
     "text": [
      "Train Summary:\n",
      "{'accuracy': 0.991, 'loss': 0.027683897659787942}\n"
     ]
    },
    {
     "data": {
      "application/vnd.jupyter.widget-view+json": {
       "model_id": "608f710de19d4034adba0eb159e85077",
       "version_major": 2,
       "version_minor": 0
      },
      "text/plain": [
       "  0%|          | 0/313 [00:00<?, ?it/s]"
      ]
     },
     "metadata": {},
     "output_type": "display_data"
    },
    {
     "name": "stdout",
     "output_type": "stream",
     "text": [
      "Eval Summary:\n",
      "{'accuracy': 0.9933, 'loss': 0.018662371790107345}\n",
      "Epoch: 23\n"
     ]
    },
    {
     "data": {
      "application/vnd.jupyter.widget-view+json": {
       "model_id": "60f330c0bdaa4f1993daf73eb6ee94e7",
       "version_major": 2,
       "version_minor": 0
      },
      "text/plain": [
       "  0%|          | 0/1875 [00:00<?, ?it/s]"
      ]
     },
     "metadata": {},
     "output_type": "display_data"
    },
    {
     "name": "stdout",
     "output_type": "stream",
     "text": [
      "Train Summary:\n",
      "{'accuracy': 0.9917, 'loss': 0.026273313303664312}\n"
     ]
    },
    {
     "data": {
      "application/vnd.jupyter.widget-view+json": {
       "model_id": "a92e552e64a54a8ba56eb3078052300c",
       "version_major": 2,
       "version_minor": 0
      },
      "text/plain": [
       "  0%|          | 0/313 [00:00<?, ?it/s]"
      ]
     },
     "metadata": {},
     "output_type": "display_data"
    },
    {
     "name": "stdout",
     "output_type": "stream",
     "text": [
      "Eval Summary:\n",
      "{'accuracy': 0.9927, 'loss': 0.01995674067996917}\n",
      "Epoch: 24\n"
     ]
    },
    {
     "data": {
      "application/vnd.jupyter.widget-view+json": {
       "model_id": "587d75f88a6647ad96f299150af6beab",
       "version_major": 2,
       "version_minor": 0
      },
      "text/plain": [
       "  0%|          | 0/1875 [00:00<?, ?it/s]"
      ]
     },
     "metadata": {},
     "output_type": "display_data"
    },
    {
     "name": "stdout",
     "output_type": "stream",
     "text": [
      "Train Summary:\n",
      "{'accuracy': 0.99155, 'loss': 0.025896004760044177}\n"
     ]
    },
    {
     "data": {
      "application/vnd.jupyter.widget-view+json": {
       "model_id": "9a9ddcd594b14492bedd410a3b943145",
       "version_major": 2,
       "version_minor": 0
      },
      "text/plain": [
       "  0%|          | 0/313 [00:00<?, ?it/s]"
      ]
     },
     "metadata": {},
     "output_type": "display_data"
    },
    {
     "name": "stdout",
     "output_type": "stream",
     "text": [
      "Eval Summary:\n",
      "{'accuracy': 0.9921, 'loss': 0.02167610625046502}\n",
      "Epoch: 25\n"
     ]
    },
    {
     "data": {
      "application/vnd.jupyter.widget-view+json": {
       "model_id": "97e178d9887f4778a76de6974983eebb",
       "version_major": 2,
       "version_minor": 0
      },
      "text/plain": [
       "  0%|          | 0/1875 [00:00<?, ?it/s]"
      ]
     },
     "metadata": {},
     "output_type": "display_data"
    },
    {
     "name": "stdout",
     "output_type": "stream",
     "text": [
      "Train Summary:\n",
      "{'accuracy': 0.9914, 'loss': 0.02616347104346017}\n"
     ]
    },
    {
     "data": {
      "application/vnd.jupyter.widget-view+json": {
       "model_id": "441e3a9165c1481ab412ff3efdeb4e9e",
       "version_major": 2,
       "version_minor": 0
      },
      "text/plain": [
       "  0%|          | 0/313 [00:00<?, ?it/s]"
      ]
     },
     "metadata": {},
     "output_type": "display_data"
    },
    {
     "name": "stdout",
     "output_type": "stream",
     "text": [
      "Eval Summary:\n",
      "{'accuracy': 0.9926, 'loss': 0.019154883613957306}\n",
      "Epoch: 26\n"
     ]
    },
    {
     "data": {
      "application/vnd.jupyter.widget-view+json": {
       "model_id": "792ec91562374104a093a56646399088",
       "version_major": 2,
       "version_minor": 0
      },
      "text/plain": [
       "  0%|          | 0/1875 [00:00<?, ?it/s]"
      ]
     },
     "metadata": {},
     "output_type": "display_data"
    },
    {
     "name": "stdout",
     "output_type": "stream",
     "text": [
      "Train Summary:\n",
      "{'accuracy': 0.9920166666666667, 'loss': 0.02361895195408457}\n"
     ]
    },
    {
     "data": {
      "application/vnd.jupyter.widget-view+json": {
       "model_id": "c055fd38425c4f7e84b13cb15572dfc7",
       "version_major": 2,
       "version_minor": 0
      },
      "text/plain": [
       "  0%|          | 0/313 [00:00<?, ?it/s]"
      ]
     },
     "metadata": {},
     "output_type": "display_data"
    },
    {
     "name": "stdout",
     "output_type": "stream",
     "text": [
      "Eval Summary:\n",
      "{'accuracy': 0.9931, 'loss': 0.01928681516340631}\n",
      "Epoch: 27\n"
     ]
    },
    {
     "data": {
      "application/vnd.jupyter.widget-view+json": {
       "model_id": "e40b387a2e544d47b18e04112380e075",
       "version_major": 2,
       "version_minor": 0
      },
      "text/plain": [
       "  0%|          | 0/1875 [00:00<?, ?it/s]"
      ]
     },
     "metadata": {},
     "output_type": "display_data"
    },
    {
     "name": "stdout",
     "output_type": "stream",
     "text": [
      "Train Summary:\n",
      "{'accuracy': 0.9925833333333334, 'loss': 0.023362351076008023}\n"
     ]
    },
    {
     "data": {
      "application/vnd.jupyter.widget-view+json": {
       "model_id": "3198f5fe3b9542cfb66043f51db618ac",
       "version_major": 2,
       "version_minor": 0
      },
      "text/plain": [
       "  0%|          | 0/313 [00:00<?, ?it/s]"
      ]
     },
     "metadata": {},
     "output_type": "display_data"
    },
    {
     "name": "stdout",
     "output_type": "stream",
     "text": [
      "Eval Summary:\n",
      "{'accuracy': 0.9936, 'loss': 0.018433024840448307}\n",
      "Epoch: 28\n"
     ]
    },
    {
     "data": {
      "application/vnd.jupyter.widget-view+json": {
       "model_id": "76d2e5e7b9e346f596171f1cd551073a",
       "version_major": 2,
       "version_minor": 0
      },
      "text/plain": [
       "  0%|          | 0/1875 [00:00<?, ?it/s]"
      ]
     },
     "metadata": {},
     "output_type": "display_data"
    },
    {
     "name": "stdout",
     "output_type": "stream",
     "text": [
      "Train Summary:\n",
      "{'accuracy': 0.99265, 'loss': 0.022287223970648907}\n"
     ]
    },
    {
     "data": {
      "application/vnd.jupyter.widget-view+json": {
       "model_id": "00450d99011c4cd9b9576e7cda1d9424",
       "version_major": 2,
       "version_minor": 0
      },
      "text/plain": [
       "  0%|          | 0/313 [00:00<?, ?it/s]"
      ]
     },
     "metadata": {},
     "output_type": "display_data"
    },
    {
     "name": "stdout",
     "output_type": "stream",
     "text": [
      "Eval Summary:\n",
      "{'accuracy': 0.9934, 'loss': 0.01860226346610481}\n",
      "Epoch: 29\n"
     ]
    },
    {
     "data": {
      "application/vnd.jupyter.widget-view+json": {
       "model_id": "b021ac85637548ada95f1c5997bdec8f",
       "version_major": 2,
       "version_minor": 0
      },
      "text/plain": [
       "  0%|          | 0/1875 [00:00<?, ?it/s]"
      ]
     },
     "metadata": {},
     "output_type": "display_data"
    },
    {
     "name": "stdout",
     "output_type": "stream",
     "text": [
      "Train Summary:\n",
      "{'accuracy': 0.9927166666666667, 'loss': 0.022284943618752474}\n"
     ]
    },
    {
     "data": {
      "application/vnd.jupyter.widget-view+json": {
       "model_id": "072b1f755a14445c9e134ce0a1da4587",
       "version_major": 2,
       "version_minor": 0
      },
      "text/plain": [
       "  0%|          | 0/313 [00:00<?, ?it/s]"
      ]
     },
     "metadata": {},
     "output_type": "display_data"
    },
    {
     "name": "stdout",
     "output_type": "stream",
     "text": [
      "Eval Summary:\n",
      "{'accuracy': 0.9939, 'loss': 0.017663164302986378}\n",
      "Epoch: 30\n"
     ]
    },
    {
     "data": {
      "application/vnd.jupyter.widget-view+json": {
       "model_id": "e9ab36b954e14ed6b0f3cd2991a94b97",
       "version_major": 2,
       "version_minor": 0
      },
      "text/plain": [
       "  0%|          | 0/1875 [00:00<?, ?it/s]"
      ]
     },
     "metadata": {},
     "output_type": "display_data"
    },
    {
     "name": "stdout",
     "output_type": "stream",
     "text": [
      "Train Summary:\n",
      "{'accuracy': 0.9934166666666666, 'loss': 0.021120844660381145}\n"
     ]
    },
    {
     "data": {
      "application/vnd.jupyter.widget-view+json": {
       "model_id": "051c97514f7d4b89b25ac3cc7148346b",
       "version_major": 2,
       "version_minor": 0
      },
      "text/plain": [
       "  0%|          | 0/313 [00:00<?, ?it/s]"
      ]
     },
     "metadata": {},
     "output_type": "display_data"
    },
    {
     "name": "stdout",
     "output_type": "stream",
     "text": [
      "Eval Summary:\n",
      "{'accuracy': 0.9936, 'loss': 0.018945037281176993}\n",
      "Epoch: 31\n"
     ]
    },
    {
     "data": {
      "application/vnd.jupyter.widget-view+json": {
       "model_id": "b6eb1c409e4d4a12afc3574a5e66bb49",
       "version_major": 2,
       "version_minor": 0
      },
      "text/plain": [
       "  0%|          | 0/1875 [00:00<?, ?it/s]"
      ]
     },
     "metadata": {},
     "output_type": "display_data"
    },
    {
     "name": "stdout",
     "output_type": "stream",
     "text": [
      "Train Summary:\n",
      "{'accuracy': 0.9934666666666667, 'loss': 0.020622747740793645}\n"
     ]
    },
    {
     "data": {
      "application/vnd.jupyter.widget-view+json": {
       "model_id": "cbf50b9a31cf49738efc469f31737f6d",
       "version_major": 2,
       "version_minor": 0
      },
      "text/plain": [
       "  0%|          | 0/313 [00:00<?, ?it/s]"
      ]
     },
     "metadata": {},
     "output_type": "display_data"
    },
    {
     "name": "stdout",
     "output_type": "stream",
     "text": [
      "Eval Summary:\n",
      "{'accuracy': 0.9927, 'loss': 0.018727738785777312}\n",
      "Epoch: 32\n"
     ]
    },
    {
     "data": {
      "application/vnd.jupyter.widget-view+json": {
       "model_id": "085b87b678e34053a5eec3c7d4fe8362",
       "version_major": 2,
       "version_minor": 0
      },
      "text/plain": [
       "  0%|          | 0/1875 [00:00<?, ?it/s]"
      ]
     },
     "metadata": {},
     "output_type": "display_data"
    },
    {
     "name": "stdout",
     "output_type": "stream",
     "text": [
      "Train Summary:\n",
      "{'accuracy': 0.993, 'loss': 0.020886585739123994}\n"
     ]
    },
    {
     "data": {
      "application/vnd.jupyter.widget-view+json": {
       "model_id": "ad17e5b62f194bf19d81e93d2821b1be",
       "version_major": 2,
       "version_minor": 0
      },
      "text/plain": [
       "  0%|          | 0/313 [00:00<?, ?it/s]"
      ]
     },
     "metadata": {},
     "output_type": "display_data"
    },
    {
     "name": "stdout",
     "output_type": "stream",
     "text": [
      "Eval Summary:\n",
      "{'accuracy': 0.9941, 'loss': 0.018607080700429542}\n",
      "Epoch: 33\n"
     ]
    },
    {
     "data": {
      "application/vnd.jupyter.widget-view+json": {
       "model_id": "2d1520013fc24e069a9b3b62c3402011",
       "version_major": 2,
       "version_minor": 0
      },
      "text/plain": [
       "  0%|          | 0/1875 [00:00<?, ?it/s]"
      ]
     },
     "metadata": {},
     "output_type": "display_data"
    }
   ],
   "source": [
    "fit_history = fit(alexnet, optimizer, train_dl, test_dl, criterion, cuda, 100)"
   ]
  },
  {
   "cell_type": "code",
   "execution_count": null,
   "id": "dc07e0c9-f178-44ac-a680-bdf1ea7315c1",
   "metadata": {},
   "outputs": [],
   "source": [
    "plot_summary(transpose_history(fit_history))"
   ]
  },
  {
   "cell_type": "markdown",
   "id": "51873d8d-4070-4e14-981e-21665d3be255",
   "metadata": {},
   "source": [
    "## Prediction"
   ]
  },
  {
   "cell_type": "markdown",
   "id": "9be68117-7aec-41c9-838d-45f210b14640",
   "metadata": {},
   "source": [
    "### Define Predictor"
   ]
  },
  {
   "cell_type": "code",
   "execution_count": 22,
   "id": "5741043e-389c-41b7-a971-0d70abf5af6e",
   "metadata": {},
   "outputs": [],
   "source": [
    "class ClassificationPredictor:\n",
    "    def __init__(self, model, class_maper=None):\n",
    "        self._model = model\n",
    "        self._class_mapper = class_maper\n",
    "        \n",
    "    def __call__(self, inpt):\n",
    "        probabilities = self._model(inpt)\n",
    "        labels = torch.argmax(probabilities, dim=1).cpu().numpy()\n",
    "        if self._class_mapper is not None:\n",
    "            labels = [self._class_mapper.id2name(idd) for idd in labels]\n",
    "            \n",
    "        return labels\n",
    "        \n",
    "    "
   ]
  },
  {
   "cell_type": "markdown",
   "id": "12d5f93e-dcd1-4eae-a91b-1dc1dc21450f",
   "metadata": {},
   "source": [
    "### Predict"
   ]
  },
  {
   "cell_type": "code",
   "execution_count": 23,
   "id": "6de2e3f7-5fe4-43fb-a4de-434ca40f497b",
   "metadata": {},
   "outputs": [],
   "source": [
    "alexnext_predictor = ClassificationPredictor(model=alexnet)"
   ]
  },
  {
   "cell_type": "code",
   "execution_count": 24,
   "id": "d556f5da-997a-4eec-bf75-d3c185884214",
   "metadata": {},
   "outputs": [],
   "source": [
    "imgs, gt_labels = next(iter(test_dl))"
   ]
  },
  {
   "cell_type": "code",
   "execution_count": 25,
   "id": "036521ce-1f6e-4ef1-aaef-0b34a71f1563",
   "metadata": {},
   "outputs": [],
   "source": [
    "pred_labels = alexnext_predictor(imgs.to(cuda))"
   ]
  },
  {
   "cell_type": "code",
   "execution_count": 26,
   "id": "55978e63-7aeb-4e53-8935-e54e31d29fa8",
   "metadata": {},
   "outputs": [
    {
     "name": "stderr",
     "output_type": "stream",
     "text": [
      "Clipping input data to the valid range for imshow with RGB data ([0..1] for floats or [0..255] for integers).\n",
      "Clipping input data to the valid range for imshow with RGB data ([0..1] for floats or [0..255] for integers).\n",
      "Clipping input data to the valid range for imshow with RGB data ([0..1] for floats or [0..255] for integers).\n",
      "Clipping input data to the valid range for imshow with RGB data ([0..1] for floats or [0..255] for integers).\n",
      "Clipping input data to the valid range for imshow with RGB data ([0..1] for floats or [0..255] for integers).\n",
      "Clipping input data to the valid range for imshow with RGB data ([0..1] for floats or [0..255] for integers).\n",
      "Clipping input data to the valid range for imshow with RGB data ([0..1] for floats or [0..255] for integers).\n",
      "Clipping input data to the valid range for imshow with RGB data ([0..1] for floats or [0..255] for integers).\n",
      "Clipping input data to the valid range for imshow with RGB data ([0..1] for floats or [0..255] for integers).\n",
      "Clipping input data to the valid range for imshow with RGB data ([0..1] for floats or [0..255] for integers).\n",
      "Clipping input data to the valid range for imshow with RGB data ([0..1] for floats or [0..255] for integers).\n",
      "Clipping input data to the valid range for imshow with RGB data ([0..1] for floats or [0..255] for integers).\n",
      "Clipping input data to the valid range for imshow with RGB data ([0..1] for floats or [0..255] for integers).\n",
      "Clipping input data to the valid range for imshow with RGB data ([0..1] for floats or [0..255] for integers).\n",
      "Clipping input data to the valid range for imshow with RGB data ([0..1] for floats or [0..255] for integers).\n",
      "Clipping input data to the valid range for imshow with RGB data ([0..1] for floats or [0..255] for integers).\n",
      "Clipping input data to the valid range for imshow with RGB data ([0..1] for floats or [0..255] for integers).\n",
      "Clipping input data to the valid range for imshow with RGB data ([0..1] for floats or [0..255] for integers).\n",
      "Clipping input data to the valid range for imshow with RGB data ([0..1] for floats or [0..255] for integers).\n",
      "Clipping input data to the valid range for imshow with RGB data ([0..1] for floats or [0..255] for integers).\n",
      "Clipping input data to the valid range for imshow with RGB data ([0..1] for floats or [0..255] for integers).\n",
      "Clipping input data to the valid range for imshow with RGB data ([0..1] for floats or [0..255] for integers).\n",
      "Clipping input data to the valid range for imshow with RGB data ([0..1] for floats or [0..255] for integers).\n",
      "Clipping input data to the valid range for imshow with RGB data ([0..1] for floats or [0..255] for integers).\n",
      "Clipping input data to the valid range for imshow with RGB data ([0..1] for floats or [0..255] for integers).\n",
      "Clipping input data to the valid range for imshow with RGB data ([0..1] for floats or [0..255] for integers).\n",
      "Clipping input data to the valid range for imshow with RGB data ([0..1] for floats or [0..255] for integers).\n",
      "Clipping input data to the valid range for imshow with RGB data ([0..1] for floats or [0..255] for integers).\n",
      "Clipping input data to the valid range for imshow with RGB data ([0..1] for floats or [0..255] for integers).\n",
      "Clipping input data to the valid range for imshow with RGB data ([0..1] for floats or [0..255] for integers).\n",
      "Clipping input data to the valid range for imshow with RGB data ([0..1] for floats or [0..255] for integers).\n",
      "Clipping input data to the valid range for imshow with RGB data ([0..1] for floats or [0..255] for integers).\n"
     ]
    },
    {
     "data": {
      "application/vnd.jupyter.widget-view+json": {
       "model_id": "495e6c1961674053a65e2080b05a3ec7",
       "version_major": 2,
       "version_minor": 0
      },
      "image/png": "[encoded data removed]",
      "text/html": [
       "\n",
       "            <div style=\"display: inline-block;\">\n",
       "                <div class=\"jupyter-widgets widget-label\" style=\"text-align: center;\">\n",
       "                    Figure\n",
       "                </div>\n",
       "                <img src='data:image/png;base64,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' width=800.0/>\n",
       "            </div>\n",
       "        "
      ],
      "text/plain": [
       "Canvas(toolbar=Toolbar(toolitems=[('Home', 'Reset original view', 'home', 'home'), ('Back', 'Back to previous …"
      ]
     },
     "metadata": {},
     "output_type": "display_data"
    }
   ],
   "source": [
    "fig, axs = plt.subplots(math.ceil(len(pred_labels) / 4),4, figsize=(8, 16))\n",
    "axs = axs.ravel()\n",
    "for ax, img, pred_label, gt_label in zip(axs, imgs.permute(0, 2, 3, 1).numpy(), pred_labels, gt_labels):\n",
    "    ax.imshow(img)\n",
    "    ax.set_title(f\"gt={gt_label}/pred={pred_label}\")\n",
    "    ax.set_axis_off()\n",
    "\n",
    "fig.tight_layout()\n",
    "    \n"
   ]
  },
  {
   "cell_type": "code",
   "execution_count": null,
   "id": "90eb2afd-7ba1-47ae-8945-2376b9214fcd",
   "metadata": {},
   "outputs": [],
   "source": []
  }
 ],
 "metadata": {
  "kernelspec": {
   "display_name": "Python 3 (ipykernel)",
   "language": "python",
   "name": "python3"
  },
  "language_info": {
   "codemirror_mode": {
    "name": "ipython",
    "version": 3
   },
   "file_extension": ".py",
   "mimetype": "text/x-python",
   "name": "python",
   "nbconvert_exporter": "python",
   "pygments_lexer": "ipython3",
   "version": "3.7.14"
  }
 },
 "nbformat": 4,
 "nbformat_minor": 5
}
