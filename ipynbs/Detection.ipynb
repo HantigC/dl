{
 "cells": [
  {
   "cell_type": "code",
   "execution_count": 1,
   "id": "133ebaa9-d854-493e-8f6e-474197f7e8c5",
   "metadata": {
    "tags": []
   },
   "outputs": [
    {
     "name": "stdout",
     "output_type": "stream",
     "text": [
      "/environment/Projects/dl\n"
     ]
    }
   ],
   "source": [
    "%cd .."
   ]
  },
  {
   "cell_type": "code",
   "execution_count": 2,
   "id": "6ab479a4-166f-4d1b-b6bf-966016542236",
   "metadata": {
    "tags": []
   },
   "outputs": [
    {
     "name": "stdout",
     "output_type": "stream",
     "text": [
      "Processing ./deps/light-torch\n",
      "  Installing build dependencies ... \u001b[?25ldone\n",
      "\u001b[?25h  Getting requirements to build wheel ... \u001b[?25ldone\n",
      "\u001b[?25h  Installing backend dependencies ... \u001b[?25ldone\n",
      "\u001b[?25h  Preparing metadata (pyproject.toml) ... \u001b[?25ldone\n",
      "\u001b[?25hBuilding wheels for collected packages: light-torch\n",
      "  Building wheel for light-torch (pyproject.toml) ... \u001b[?25ldone\n",
      "\u001b[?25h  Created wheel for light-torch: filename=light_torch-0.0.1-py3-none-any.whl size=6012 sha256=4737ed5f6ab9160581810f3a888789da038982d4afe589ef7f87d9b95704decc\n",
      "  Stored in directory: /home/stefan-cristianhantig/.cache/pip/wheels/76/4b/a5/ce53c36ade717c024783dce5309d843ab5a592d06a292dafc2\n",
      "Successfully built light-torch\n",
      "Installing collected packages: light-torch\n",
      "  Attempting uninstall: light-torch\n",
      "    Found existing installation: light-torch 0.0.1\n",
      "    Uninstalling light-torch-0.0.1:\n",
      "      Successfully uninstalled light-torch-0.0.1\n",
      "Successfully installed light-torch-0.0.1\n"
     ]
    }
   ],
   "source": [
    "! python -m pip install deps/light-torch/"
   ]
  },
  {
   "cell_type": "code",
   "execution_count": 3,
   "id": "cd94d3ff-7065-416d-91d2-43c410f8b682",
   "metadata": {
    "tags": []
   },
   "outputs": [],
   "source": [
    "from light_torch.module import Module"
   ]
  },
  {
   "cell_type": "code",
   "execution_count": 4,
   "id": "32c98d63-40eb-4d91-a5eb-aebd100eb873",
   "metadata": {
    "tags": []
   },
   "outputs": [],
   "source": [
    "from src.object_detection.yolov1 import YoloV1Backbone, YoloV1, ObjectDetectionModule"
   ]
  },
  {
   "cell_type": "code",
   "execution_count": 5,
   "id": "c3bac333-08d3-4fd7-8acb-6b67e54a9a0d",
   "metadata": {
    "tags": []
   },
   "outputs": [],
   "source": [
    "from src.classification.models.resnet import Resnet"
   ]
  },
  {
   "cell_type": "code",
   "execution_count": 6,
   "id": "128f34d4-3264-498a-aa68-3e35ff9041c9",
   "metadata": {
    "tags": []
   },
   "outputs": [],
   "source": [
    "from torchsummary import summary"
   ]
  },
  {
   "cell_type": "code",
   "execution_count": 7,
   "id": "3af07f10-5dc6-44b4-84d8-54a3520e02b8",
   "metadata": {
    "tags": []
   },
   "outputs": [],
   "source": [
    "import json"
   ]
  },
  {
   "cell_type": "code",
   "execution_count": 8,
   "id": "f687527d-f21f-4ba1-b5cc-96b9c6d9f9b8",
   "metadata": {
    "tags": []
   },
   "outputs": [],
   "source": [
    "TRAIN_ANNOTATION_FILE = \"resources/object_detection/annotations/instances_train2014.json\"\n",
    "VAL_ANNOTATION_FILE = \"resources/object_detection/annotations/instances_val2014.json\""
   ]
  },
  {
   "cell_type": "code",
   "execution_count": 9,
   "id": "ce58ee84-0bc9-424b-a8b6-8493454dad45",
   "metadata": {
    "tags": []
   },
   "outputs": [],
   "source": [
    "with open(TRAIN_ANNOTATION_FILE, \"r\") as json_file:\n",
    "    train_coco = json.load(json_file)\n",
    "    \n",
    "with open(VAL_ANNOTATION_FILE, \"r\") as json_file:\n",
    "    val_coco = json.load(json_file)"
   ]
  },
  {
   "cell_type": "code",
   "execution_count": 10,
   "id": "19faaee1-467b-4189-bd1b-c7fed0983522",
   "metadata": {
    "tags": []
   },
   "outputs": [],
   "source": [
    "import cv2"
   ]
  },
  {
   "cell_type": "code",
   "execution_count": 11,
   "id": "db80bd9a-72bb-4120-9fd9-7b7a7f83db70",
   "metadata": {
    "tags": []
   },
   "outputs": [],
   "source": [
    "from pathlib import Path"
   ]
  },
  {
   "cell_type": "code",
   "execution_count": 12,
   "id": "34a1815e-b348-4b88-98c4-499adca16a69",
   "metadata": {
    "tags": []
   },
   "outputs": [],
   "source": [
    "import matplotlib.pyplot as plt"
   ]
  },
  {
   "cell_type": "code",
   "execution_count": 13,
   "id": "1b02f16e-6c96-4274-a8b1-bd5fea642111",
   "metadata": {
    "tags": []
   },
   "outputs": [],
   "source": [
    "TRAIN_IMAGES_PATH = Path(\"./resources/object_detection/train2014/\")\n",
    "VAL_IMAGES_PATH = Path(\"./resources/object_detection/val2014/\")"
   ]
  },
  {
   "cell_type": "code",
   "execution_count": 14,
   "id": "4e13e92a-a582-4645-9ee5-6b826cdbe3ad",
   "metadata": {
    "tags": []
   },
   "outputs": [],
   "source": [
    "import numpy as np"
   ]
  },
  {
   "cell_type": "code",
   "execution_count": 15,
   "id": "a6997ccf-1871-4cac-8b52-001b1d071d4c",
   "metadata": {
    "tags": []
   },
   "outputs": [],
   "source": [
    "from torch.utils.data.dataset import Dataset"
   ]
  },
  {
   "cell_type": "code",
   "execution_count": 16,
   "id": "9638bfe6-fde6-4576-9e88-300ba6c7ae44",
   "metadata": {
    "tags": []
   },
   "outputs": [],
   "source": [
    "from functools import lru_cache"
   ]
  },
  {
   "cell_type": "code",
   "execution_count": 17,
   "id": "457bef63-957f-4f33-8802-2e4f1988a122",
   "metadata": {
    "tags": []
   },
   "outputs": [],
   "source": [
    "from torchvision.transforms import Compose"
   ]
  },
  {
   "cell_type": "code",
   "execution_count": 18,
   "id": "e15c0dd9-8992-41fb-9548-6428f57ffb9c",
   "metadata": {
    "tags": []
   },
   "outputs": [],
   "source": [
    "from IPython.core.debugger import set_trace"
   ]
  },
  {
   "cell_type": "code",
   "execution_count": 19,
   "id": "be8cc67f-0e92-444b-b189-5b8b04db1a3c",
   "metadata": {
    "tags": []
   },
   "outputs": [],
   "source": [
    "from src.object_detection.data.coco import CocoDetectionDataset, make_id2category_map, collect_annotations"
   ]
  },
  {
   "cell_type": "code",
   "execution_count": 20,
   "id": "89d56862-f2d4-442e-bb38-801022203284",
   "metadata": {
    "tags": []
   },
   "outputs": [],
   "source": [
    "from src.object_detection.utils.visualization import draw_bbox_xyhw, draw_rect_xywh_, draw_grid_, draw_boxes_tlbr_"
   ]
  },
  {
   "cell_type": "code",
   "execution_count": 21,
   "id": "517404dd-6c4d-4d94-83a6-7154d33f5c27",
   "metadata": {
    "tags": []
   },
   "outputs": [],
   "source": [
    "import torch"
   ]
  },
  {
   "cell_type": "code",
   "execution_count": 22,
   "id": "15c24955-1b6c-4d29-b9ba-d4c9af004e17",
   "metadata": {
    "tags": []
   },
   "outputs": [],
   "source": [
    "from src.transform import to_rgb, to_torch, resize"
   ]
  },
  {
   "cell_type": "code",
   "execution_count": 23,
   "id": "68d744c3-a9b0-460e-994e-7467e03cca6b",
   "metadata": {
    "tags": []
   },
   "outputs": [],
   "source": [
    "def convert_to_torch(x):\n",
    "    if not isinstance(x, np.ndarray):\n",
    "        x = np.array(x)\n",
    "    return torch.from_numpy(x)"
   ]
  },
  {
   "cell_type": "code",
   "execution_count": 24,
   "id": "3c216c8e-5579-4fb1-8cbd-a70a17af465b",
   "metadata": {
    "tags": []
   },
   "outputs": [],
   "source": [
    "def target_to_torch(target):\n",
    "    if isinstance(target, dict):\n",
    "        return {k: convert_to_torch(t) for k, t in target.items()}\n",
    "    return convert_to_torch(target)"
   ]
  },
  {
   "cell_type": "code",
   "execution_count": 25,
   "id": "086c6a96-adec-4b67-b173-5f144d554d7f",
   "metadata": {
    "tags": []
   },
   "outputs": [],
   "source": [
    "img_transform = Compose([\n",
    "    to_torch,\n",
    "])"
   ]
  },
  {
   "cell_type": "code",
   "execution_count": 26,
   "id": "c94c629f-1b88-42b5-8fb8-533d043f23e6",
   "metadata": {
    "tags": []
   },
   "outputs": [],
   "source": [
    "def select_categories(annotation_dict, categories=None):\n",
    "    return annotation_dict[\"category_id\"] in categories\n",
    "    "
   ]
  },
  {
   "cell_type": "code",
   "execution_count": 27,
   "id": "de6a08af-b6ac-4255-a06c-76afbb28daa4",
   "metadata": {
    "tags": []
   },
   "outputs": [],
   "source": [
    "from functools import partial"
   ]
  },
  {
   "cell_type": "code",
   "execution_count": 29,
   "id": "e838b06a-be5a-4a1d-b700-c40436f10a46",
   "metadata": {
    "tags": []
   },
   "outputs": [],
   "source": [
    "def transpose(xss):\n",
    "    return list(zip(*xss))"
   ]
  },
  {
   "cell_type": "code",
   "execution_count": 30,
   "id": "936b2f4d-a8db-44c5-a4aa-1bf7e2ee6675",
   "metadata": {
    "tags": []
   },
   "outputs": [],
   "source": [
    "from torch.nn import functional as F"
   ]
  },
  {
   "cell_type": "code",
   "execution_count": 31,
   "id": "7d78b7b5-17df-4a98-b1cc-fa205ff05946",
   "metadata": {
    "tags": []
   },
   "outputs": [],
   "source": [
    "from collections import defaultdict"
   ]
  },
  {
   "cell_type": "code",
   "execution_count": 32,
   "id": "446bb204-0ed2-4dab-8729-1dc6d6aa9c7e",
   "metadata": {
    "tags": []
   },
   "outputs": [],
   "source": [
    "def pad_collate(batch):\n",
    "    imgs, targets = transpose(batch)\n",
    "    _, h_max, w_max = np.max([np.array(img.shape) for img in imgs], axis=0)\n",
    "    padded_imgs = []\n",
    "    \n",
    "    padded_targets = defaultdict(list)\n",
    "    for img, target in zip(imgs, targets):\n",
    "        target = target_to_torch(target)\n",
    "        _, h, w = img.shape\n",
    "        pad_h, pad_w = h_max - h, w_max - w\n",
    "        img = F.pad(img, (0, pad_w, 0, pad_h), \"constant\", 0)\n",
    "        padded_imgs.append(img)\n",
    "        if len(target):\n",
    "            target[\"boxes\"] = target[\"boxes\"] * torch.from_numpy(np.array([h / h_max, w/w_max, h/h_max, w/w_max]))\n",
    "        for name, v in target.items():\n",
    "            padded_targets[name].append(v)\n",
    "        \n",
    "    \n",
    "    imgs = torch.stack(padded_imgs)\n",
    "    return imgs, padded_targets\n",
    "    "
   ]
  },
  {
   "cell_type": "code",
   "execution_count": 33,
   "id": "8cbec879-d6f6-474e-aaec-656832262fb7",
   "metadata": {
    "tags": []
   },
   "outputs": [],
   "source": [
    "from torch.utils.data.dataloader import DataLoader\n",
    "coco_train_ds = CocoDetectionDataset(\n",
    "    train_coco, \n",
    "    TRAIN_IMAGES_PATH,\n",
    "    transform=to_torch,\n",
    "    target_transform=target_to_torch,\n",
    "    select_annotation=partial(select_categories, categories=[78, 79]),\n",
    "    \n",
    ")\n",
    "\n",
    "val_train_ds = CocoDetectionDataset(\n",
    "    val_coco, \n",
    "    VAL_IMAGES_PATH,\n",
    "    transform=to_torch,\n",
    "    target_transform=target_to_torch,\n",
    "    select_annotation=partial(select_categories, categories=[78, 79]),\n",
    "    \n",
    ")\n",
    "train_dl = DataLoader(coco_train_ds, collate_fn=pad_collate, batch_size=2, shuffle=True)\n",
    "val_dl = DataLoader(val_train_ds, collate_fn=pad_collate, batch_size=2, shuffle=True)"
   ]
  },
  {
   "cell_type": "code",
   "execution_count": 36,
   "id": "9844f5ec-12b2-48e9-9083-1755a5c0650b",
   "metadata": {
    "tags": []
   },
   "outputs": [],
   "source": [
    "#resnet = Resnet()\n",
    "yolo = YoloV1(coco_train_ds.categories_num)"
   ]
  },
  {
   "cell_type": "code",
   "execution_count": 37,
   "id": "bb4a5f4a-97ee-4965-aa46-6698a88081e0",
   "metadata": {
    "tags": []
   },
   "outputs": [],
   "source": [
    "from src.object_detection.yolov1 import YoloV1Loss"
   ]
  },
  {
   "cell_type": "code",
   "execution_count": 38,
   "id": "a0e0afbb-b78b-4cce-8b01-ca43e16ae48a",
   "metadata": {
    "tags": []
   },
   "outputs": [],
   "source": [
    "yolov1_loss = YoloV1Loss()"
   ]
  },
  {
   "cell_type": "code",
   "execution_count": 39,
   "id": "206dd616-9547-4e57-9167-c8e0c5d3c946",
   "metadata": {
    "tags": []
   },
   "outputs": [],
   "source": [
    "from collections import defaultdict"
   ]
  },
  {
   "cell_type": "code",
   "execution_count": 40,
   "id": "5df3ba48-412b-42d0-824e-3d1582e7b436",
   "metadata": {
    "tags": []
   },
   "outputs": [],
   "source": [
    "def transpos_dict(dict_list):\n",
    "    list_dict = defaultdict(list)\n",
    "    for d in dict_list:\n",
    "        for k, v in d.items():\n",
    "            list_dict[k].append(v)\n",
    "    return list_dict"
   ]
  },
  {
   "cell_type": "code",
   "execution_count": 41,
   "id": "4f11e5cd-ae6c-46ad-84c1-b05025dd00e0",
   "metadata": {
    "tags": []
   },
   "outputs": [],
   "source": [
    "def pad_images_by_hw(img, max_h, max_w):\n",
    "    c, h, w = img.shape\n",
    "    pad_h = max_h - h\n",
    "    pad_w = max_w - w\n",
    "    return F.pad(img, (0, pad_w, 0, pad_h), \"constant\", 0)"
   ]
  },
  {
   "cell_type": "code",
   "execution_count": 42,
   "id": "681097bc-afb4-4524-9e7f-1518c9b62205",
   "metadata": {
    "tags": []
   },
   "outputs": [],
   "source": [
    "from src.object_detection.yolov1 import YoloV1Loss"
   ]
  },
  {
   "cell_type": "code",
   "execution_count": 43,
   "id": "25a5f14f-db67-4410-90bf-e91340b175ea",
   "metadata": {
    "tags": []
   },
   "outputs": [],
   "source": [
    "yv1_loss = YoloV1Loss()"
   ]
  },
  {
   "cell_type": "code",
   "execution_count": 44,
   "id": "cf0f0ba4-3e61-4f59-a6e7-67a608e2a46d",
   "metadata": {
    "tags": []
   },
   "outputs": [],
   "source": [
    "from light_torch.train import Trainer"
   ]
  },
  {
   "cell_type": "code",
   "execution_count": 46,
   "id": "ff7d8201-142a-4aed-8464-39bcc512290e",
   "metadata": {
    "tags": []
   },
   "outputs": [],
   "source": [
    "obj_detection = ObjectDetectionModule(yolo, yolov1_loss, coco_train_ds.id2name_map, iou_threshold=0.2)"
   ]
  },
  {
   "cell_type": "code",
   "execution_count": 47,
   "id": "1c5d8e6f-afe4-4cb4-a224-dcf2d6e3adbc",
   "metadata": {
    "tags": []
   },
   "outputs": [],
   "source": [
    "optimizer = torch.optim.SGD(obj_detection.parameters(), lr=0.001)"
   ]
  },
  {
   "cell_type": "code",
   "execution_count": 48,
   "id": "2bc56023-6e6f-4210-a2af-8fa100e54040",
   "metadata": {
    "tags": []
   },
   "outputs": [],
   "source": [
    "trainer = Trainer(\n",
    "    obj_detection, \n",
    "    epochs=10,\n",
    "    accumulation=4,\n",
    "    optimizer=optimizer,\n",
    "    name=\"yolov1\",\n",
    ")"
   ]
  },
  {
   "cell_type": "code",
   "execution_count": 49,
   "id": "26553a5e-ecad-4112-bbd9-1ee2154e20ad",
   "metadata": {
    "tags": []
   },
   "outputs": [
    {
     "data": {
      "text/plain": [
       "Trainer(\n",
       "  (module): ObjectDetectionModule(\n",
       "    (model): YoloV1(\n",
       "      (backbone): YoloV1Backbone(\n",
       "        (st_conv): Conv2dSamePadding(3, 64, kernel_size=(7, 7), stride=(2, 2), padding=(3, 3))\n",
       "        (st_maxpol): MaxPool2d(kernel_size=(2, 2), stride=2, padding=0, dilation=1, ceil_mode=False)\n",
       "        (net): Sequential(\n",
       "          (conv2): Conv2dSamePadding(64, 192, kernel_size=(3, 3), stride=(1, 1), padding=(1, 1))\n",
       "          (activation2): LeakyReLU(negative_slope=0.01)\n",
       "          (pool2): MaxPool2d(kernel_size=(2, 2), stride=2, padding=0, dilation=1, ceil_mode=False)\n",
       "          (identity_conv31): Conv2dSamePadding(192, 128, kernel_size=(1, 1), stride=(1, 1))\n",
       "          (conv31): Conv2dSamePadding(128, 256, kernel_size=(3, 3), stride=(1, 1), padding=(1, 1))\n",
       "          (activation31): LeakyReLU(negative_slope=0.01)\n",
       "          (identity_conv32): Conv2dSamePadding(256, 256, kernel_size=(1, 1), stride=(1, 1))\n",
       "          (conv32): Conv2dSamePadding(256, 512, kernel_size=(3, 3), stride=(1, 1), padding=(1, 1))\n",
       "          (activation32): LeakyReLU(negative_slope=0.01)\n",
       "          (pool3): MaxPool2d(kernel_size=(2, 2), stride=2, padding=0, dilation=1, ceil_mode=False)\n",
       "          (identity_conv41): Conv2dSamePadding(512, 256, kernel_size=(1, 1), stride=(1, 1))\n",
       "          (conv41): Conv2dSamePadding(256, 512, kernel_size=(3, 3), stride=(1, 1), padding=(1, 1))\n",
       "          (activation41): LeakyReLU(negative_slope=0.01)\n",
       "          (identity_conv42): Conv2dSamePadding(512, 256, kernel_size=(1, 1), stride=(1, 1))\n",
       "          (conv42): Conv2dSamePadding(256, 512, kernel_size=(3, 3), stride=(1, 1), padding=(1, 1))\n",
       "          (activation42): LeakyReLU(negative_slope=0.01)\n",
       "          (identity_conv43): Conv2dSamePadding(512, 256, kernel_size=(1, 1), stride=(1, 1))\n",
       "          (conv43): Conv2dSamePadding(256, 512, kernel_size=(3, 3), stride=(1, 1), padding=(1, 1))\n",
       "          (activation43): LeakyReLU(negative_slope=0.01)\n",
       "          (identity_conv44): Conv2dSamePadding(512, 256, kernel_size=(1, 1), stride=(1, 1))\n",
       "          (conv44): Conv2dSamePadding(256, 512, kernel_size=(3, 3), stride=(1, 1), padding=(1, 1))\n",
       "          (activation44): LeakyReLU(negative_slope=0.01)\n",
       "          (identity_conv45): Conv2dSamePadding(512, 512, kernel_size=(1, 1), stride=(1, 1))\n",
       "          (conv45): Conv2dSamePadding(512, 1024, kernel_size=(3, 3), stride=(1, 1), padding=(1, 1))\n",
       "          (activation45): LeakyReLU(negative_slope=0.01)\n",
       "          (pool4): MaxPool2d(kernel_size=(2, 2), stride=2, padding=0, dilation=1, ceil_mode=False)\n",
       "          (identity_conv51): Conv2dSamePadding(1024, 512, kernel_size=(1, 1), stride=(1, 1))\n",
       "          (conv51): Conv2dSamePadding(512, 1024, kernel_size=(3, 3), stride=(1, 1), padding=(1, 1))\n",
       "          (activation51): LeakyReLU(negative_slope=0.01)\n",
       "          (identity_conv52): Conv2dSamePadding(1024, 512, kernel_size=(1, 1), stride=(1, 1))\n",
       "          (conv52): Conv2dSamePadding(512, 1024, kernel_size=(3, 3), stride=(1, 1), padding=(1, 1))\n",
       "          (activation52): LeakyReLU(negative_slope=0.01)\n",
       "          (conv53): Conv2dSamePadding(1024, 1024, kernel_size=(3, 3), stride=(1, 1), padding=(1, 1))\n",
       "          (activation53): LeakyReLU(negative_slope=0.01)\n",
       "          (pool5): MaxPool2d(kernel_size=(2, 2), stride=2, padding=0, dilation=1, ceil_mode=False)\n",
       "          (conv61): Conv2dSamePadding(1024, 1024, kernel_size=(3, 3), stride=(1, 1), padding=(1, 1))\n",
       "          (activation61): LeakyReLU(negative_slope=0.01)\n",
       "          (conv62): Conv2dSamePadding(1024, 1024, kernel_size=(3, 3), stride=(1, 1), padding=(1, 1))\n",
       "          (activation62): LeakyReLU(negative_slope=0.01)\n",
       "        )\n",
       "      )\n",
       "      (to_grid): AdaptiveAvgPool2d(output_size=(7, 7))\n",
       "      (conf): LazyConv2d()\n",
       "    )\n",
       "    (loss): YoloV1Loss()\n",
       "  )\n",
       ")"
      ]
     },
     "execution_count": 49,
     "metadata": {},
     "output_type": "execute_result"
    }
   ],
   "source": [
    "trainer.train()"
   ]
  },
  {
   "cell_type": "code",
   "execution_count": 50,
   "id": "d2e63932-16c9-4934-94bf-ad5f81d9979f",
   "metadata": {
    "tags": []
   },
   "outputs": [
    {
     "data": {
      "text/plain": [
       "[CliLog()]"
      ]
     },
     "execution_count": 50,
     "metadata": {},
     "output_type": "execute_result"
    }
   ],
   "source": [
    "trainer.loggers"
   ]
  },
  {
   "cell_type": "code",
   "execution_count": 51,
   "id": "c24338fc-d65a-45d9-ad6e-73823487291b",
   "metadata": {
    "tags": []
   },
   "outputs": [
    {
     "data": {
      "application/vnd.jupyter.widget-view+json": {
       "model_id": "05d1ef09864c470f921f9b23b3a38e2f",
       "version_major": 2,
       "version_minor": 0
      },
      "text/plain": [
       "Train epoch  001:   0%|          | 0/1227 [00:00<?, ?it/s]"
      ]
     },
     "metadata": {},
     "output_type": "display_data"
    },
    {
     "name": "stdout",
     "output_type": "stream",
     "text": [
      "STAGE TRAIN: Epoch:  001\n",
      "{'box_loss': 30.94063367703909, 'classification_loss': 7.594014616083493, 'confidence_loss': 3.495257728081881, 'loss': 42.02990602120437}\n"
     ]
    },
    {
     "ename": "AttributeError",
     "evalue": "'ObjectDetectionModule' object has no attribute '_init'",
     "output_type": "error",
     "traceback": [
      "\u001b[0;31m---------------------------------------------------------------------------\u001b[0m",
      "\u001b[0;31mAttributeError\u001b[0m                            Traceback (most recent call last)",
      "\u001b[0;32m/tmp/ipykernel_2041/1622641000.py\u001b[0m in \u001b[0;36m<module>\u001b[0;34m\u001b[0m\n\u001b[0;32m----> 1\u001b[0;31m \u001b[0mtrainer\u001b[0m\u001b[0;34m.\u001b[0m\u001b[0mfit\u001b[0m\u001b[0;34m(\u001b[0m\u001b[0mtrain_dl\u001b[0m\u001b[0;34m,\u001b[0m \u001b[0mval_data\u001b[0m\u001b[0;34m=\u001b[0m\u001b[0mval_dl\u001b[0m\u001b[0;34m)\u001b[0m\u001b[0;34m\u001b[0m\u001b[0;34m\u001b[0m\u001b[0m\n\u001b[0m",
      "\u001b[0;32m~/.python_envs/default/lib/python3.7/site-packages/light_torch/train.py\u001b[0m in \u001b[0;36mfit\u001b[0;34m(self, data, optimizer, epochs, val_data)\u001b[0m\n\u001b[1;32m    100\u001b[0m                 \u001b[0mreport\u001b[0m \u001b[0;34m=\u001b[0m \u001b[0;34m{\u001b[0m\u001b[0;34m\"train\"\u001b[0m\u001b[0;34m:\u001b[0m \u001b[0mtrain_metrics_report\u001b[0m\u001b[0;34m,\u001b[0m \u001b[0;34m\"epoch\"\u001b[0m\u001b[0;34m:\u001b[0m \u001b[0mepoch\u001b[0m\u001b[0;34m}\u001b[0m\u001b[0;34m\u001b[0m\u001b[0;34m\u001b[0m\u001b[0m\n\u001b[1;32m    101\u001b[0m                 \u001b[0;32mif\u001b[0m \u001b[0mval_data\u001b[0m \u001b[0;32mis\u001b[0m \u001b[0;32mnot\u001b[0m \u001b[0;32mNone\u001b[0m\u001b[0;34m:\u001b[0m\u001b[0;34m\u001b[0m\u001b[0;34m\u001b[0m\u001b[0m\n\u001b[0;32m--> 102\u001b[0;31m                     \u001b[0mself\u001b[0m\u001b[0;34m.\u001b[0m\u001b[0mevaluate\u001b[0m\u001b[0;34m(\u001b[0m\u001b[0mval_data\u001b[0m\u001b[0;34m,\u001b[0m \u001b[0mepoch\u001b[0m\u001b[0;34m)\u001b[0m\u001b[0;34m\u001b[0m\u001b[0;34m\u001b[0m\u001b[0m\n\u001b[0m\u001b[1;32m    103\u001b[0m                     \u001b[0meval_metrics_report\u001b[0m \u001b[0;34m=\u001b[0m \u001b[0mself\u001b[0m\u001b[0;34m.\u001b[0m\u001b[0mmodule\u001b[0m\u001b[0;34m.\u001b[0m\u001b[0mget_epoch_log\u001b[0m\u001b[0;34m(\u001b[0m\u001b[0;34m)\u001b[0m\u001b[0;34m\u001b[0m\u001b[0;34m\u001b[0m\u001b[0m\n\u001b[1;32m    104\u001b[0m                     \u001b[0mself\u001b[0m\u001b[0;34m.\u001b[0m\u001b[0m_log\u001b[0m\u001b[0;34m(\u001b[0m\u001b[0meval_metrics_report\u001b[0m\u001b[0;34m,\u001b[0m \u001b[0mepoch\u001b[0m\u001b[0;34m,\u001b[0m \u001b[0;34m\"VAL\"\u001b[0m\u001b[0;34m)\u001b[0m\u001b[0;34m\u001b[0m\u001b[0;34m\u001b[0m\u001b[0m\n",
      "\u001b[0;32m~/.python_envs/default/lib/python3.7/site-packages/light_torch/train.py\u001b[0m in \u001b[0;36mevaluate\u001b[0;34m(self, data, epoch)\u001b[0m\n\u001b[1;32m    108\u001b[0m \u001b[0;34m\u001b[0m\u001b[0m\n\u001b[1;32m    109\u001b[0m     \u001b[0;32mdef\u001b[0m \u001b[0mevaluate\u001b[0m\u001b[0;34m(\u001b[0m\u001b[0mself\u001b[0m\u001b[0;34m,\u001b[0m \u001b[0mdata\u001b[0m\u001b[0;34m:\u001b[0m \u001b[0mDataLoader\u001b[0m\u001b[0;34m,\u001b[0m \u001b[0mepoch\u001b[0m\u001b[0;34m:\u001b[0m \u001b[0mint\u001b[0m \u001b[0;34m=\u001b[0m \u001b[0;32mNone\u001b[0m\u001b[0;34m)\u001b[0m \u001b[0;34m->\u001b[0m \u001b[0;32mNone\u001b[0m\u001b[0;34m:\u001b[0m\u001b[0;34m\u001b[0m\u001b[0;34m\u001b[0m\u001b[0m\n\u001b[0;32m--> 110\u001b[0;31m         \u001b[0;32mwith\u001b[0m \u001b[0mself\u001b[0m\u001b[0;34m.\u001b[0m\u001b[0mmodule\u001b[0m\u001b[0;34m.\u001b[0m\u001b[0mon_val\u001b[0m\u001b[0;34m(\u001b[0m\u001b[0;34m)\u001b[0m\u001b[0;34m:\u001b[0m\u001b[0;34m\u001b[0m\u001b[0;34m\u001b[0m\u001b[0m\n\u001b[0m\u001b[1;32m    111\u001b[0m             \u001b[0;32mwith\u001b[0m \u001b[0mtqdm\u001b[0m\u001b[0;34m(\u001b[0m\u001b[0mtotal\u001b[0m\u001b[0;34m=\u001b[0m\u001b[0mlen\u001b[0m\u001b[0;34m(\u001b[0m\u001b[0mdata\u001b[0m\u001b[0;34m)\u001b[0m\u001b[0;34m,\u001b[0m \u001b[0mdesc\u001b[0m\u001b[0;34m=\u001b[0m\u001b[0;34mf\"Val epoch {epoch: 04d}\"\u001b[0m\u001b[0;34m)\u001b[0m \u001b[0;32mas\u001b[0m \u001b[0mtbar\u001b[0m\u001b[0;34m:\u001b[0m\u001b[0;34m\u001b[0m\u001b[0;34m\u001b[0m\u001b[0m\n\u001b[1;32m    112\u001b[0m                 \u001b[0;32mfor\u001b[0m \u001b[0mbatch_idx\u001b[0m\u001b[0;34m,\u001b[0m \u001b[0mbatch\u001b[0m \u001b[0;32min\u001b[0m \u001b[0menumerate\u001b[0m\u001b[0;34m(\u001b[0m\u001b[0mdata\u001b[0m\u001b[0;34m)\u001b[0m\u001b[0;34m:\u001b[0m\u001b[0;34m\u001b[0m\u001b[0;34m\u001b[0m\u001b[0m\n",
      "\u001b[0;32m/usr/lib/python3.7/contextlib.py\u001b[0m in \u001b[0;36m__enter__\u001b[0;34m(self)\u001b[0m\n\u001b[1;32m    110\u001b[0m         \u001b[0;32mdel\u001b[0m \u001b[0mself\u001b[0m\u001b[0;34m.\u001b[0m\u001b[0margs\u001b[0m\u001b[0;34m,\u001b[0m \u001b[0mself\u001b[0m\u001b[0;34m.\u001b[0m\u001b[0mkwds\u001b[0m\u001b[0;34m,\u001b[0m \u001b[0mself\u001b[0m\u001b[0;34m.\u001b[0m\u001b[0mfunc\u001b[0m\u001b[0;34m\u001b[0m\u001b[0;34m\u001b[0m\u001b[0m\n\u001b[1;32m    111\u001b[0m         \u001b[0;32mtry\u001b[0m\u001b[0;34m:\u001b[0m\u001b[0;34m\u001b[0m\u001b[0;34m\u001b[0m\u001b[0m\n\u001b[0;32m--> 112\u001b[0;31m             \u001b[0;32mreturn\u001b[0m \u001b[0mnext\u001b[0m\u001b[0;34m(\u001b[0m\u001b[0mself\u001b[0m\u001b[0;34m.\u001b[0m\u001b[0mgen\u001b[0m\u001b[0;34m)\u001b[0m\u001b[0;34m\u001b[0m\u001b[0;34m\u001b[0m\u001b[0m\n\u001b[0m\u001b[1;32m    113\u001b[0m         \u001b[0;32mexcept\u001b[0m \u001b[0mStopIteration\u001b[0m\u001b[0;34m:\u001b[0m\u001b[0;34m\u001b[0m\u001b[0;34m\u001b[0m\u001b[0m\n\u001b[1;32m    114\u001b[0m             \u001b[0;32mraise\u001b[0m \u001b[0mRuntimeError\u001b[0m\u001b[0;34m(\u001b[0m\u001b[0;34m\"generator didn't yield\"\u001b[0m\u001b[0;34m)\u001b[0m \u001b[0;32mfrom\u001b[0m \u001b[0;32mNone\u001b[0m\u001b[0;34m\u001b[0m\u001b[0;34m\u001b[0m\u001b[0m\n",
      "\u001b[0;32m~/.python_envs/default/lib/python3.7/site-packages/light_torch/module.py\u001b[0m in \u001b[0;36mon_val\u001b[0;34m(self)\u001b[0m\n\u001b[1;32m     88\u001b[0m     \u001b[0;32mdef\u001b[0m \u001b[0mon_val\u001b[0m\u001b[0;34m(\u001b[0m\u001b[0mself\u001b[0m\u001b[0;34m)\u001b[0m\u001b[0;34m:\u001b[0m\u001b[0;34m\u001b[0m\u001b[0;34m\u001b[0m\u001b[0m\n\u001b[1;32m     89\u001b[0m         \u001b[0;32mwith\u001b[0m \u001b[0mtorch\u001b[0m\u001b[0;34m.\u001b[0m\u001b[0mno_grad\u001b[0m\u001b[0;34m(\u001b[0m\u001b[0;34m)\u001b[0m\u001b[0;34m:\u001b[0m\u001b[0;34m\u001b[0m\u001b[0;34m\u001b[0m\u001b[0m\n\u001b[0;32m---> 90\u001b[0;31m             \u001b[0mself\u001b[0m\u001b[0;34m.\u001b[0m\u001b[0m_init\u001b[0m\u001b[0;34m(\u001b[0m\u001b[0;34m)\u001b[0m\u001b[0;34m\u001b[0m\u001b[0;34m\u001b[0m\u001b[0m\n\u001b[0m\u001b[1;32m     91\u001b[0m             \u001b[0mself\u001b[0m\u001b[0;34m.\u001b[0m\u001b[0mbegin_val\u001b[0m\u001b[0;34m(\u001b[0m\u001b[0;34m)\u001b[0m\u001b[0;34m\u001b[0m\u001b[0;34m\u001b[0m\u001b[0m\n\u001b[1;32m     92\u001b[0m             \u001b[0;32mtry\u001b[0m\u001b[0;34m:\u001b[0m\u001b[0;34m\u001b[0m\u001b[0;34m\u001b[0m\u001b[0m\n",
      "\u001b[0;32m~/.python_envs/default/lib/python3.7/site-packages/torch/nn/modules/module.py\u001b[0m in \u001b[0;36m__getattr__\u001b[0;34m(self, name)\u001b[0m\n\u001b[1;32m   1268\u001b[0m                 \u001b[0;32mreturn\u001b[0m \u001b[0mmodules\u001b[0m\u001b[0;34m[\u001b[0m\u001b[0mname\u001b[0m\u001b[0;34m]\u001b[0m\u001b[0;34m\u001b[0m\u001b[0;34m\u001b[0m\u001b[0m\n\u001b[1;32m   1269\u001b[0m         raise AttributeError(\"'{}' object has no attribute '{}'\".format(\n\u001b[0;32m-> 1270\u001b[0;31m             type(self).__name__, name))\n\u001b[0m\u001b[1;32m   1271\u001b[0m \u001b[0;34m\u001b[0m\u001b[0m\n\u001b[1;32m   1272\u001b[0m     \u001b[0;32mdef\u001b[0m \u001b[0m__setattr__\u001b[0m\u001b[0;34m(\u001b[0m\u001b[0mself\u001b[0m\u001b[0;34m,\u001b[0m \u001b[0mname\u001b[0m\u001b[0;34m:\u001b[0m \u001b[0mstr\u001b[0m\u001b[0;34m,\u001b[0m \u001b[0mvalue\u001b[0m\u001b[0;34m:\u001b[0m \u001b[0mUnion\u001b[0m\u001b[0;34m[\u001b[0m\u001b[0mTensor\u001b[0m\u001b[0;34m,\u001b[0m \u001b[0;34m'Module'\u001b[0m\u001b[0;34m]\u001b[0m\u001b[0;34m)\u001b[0m \u001b[0;34m->\u001b[0m \u001b[0;32mNone\u001b[0m\u001b[0;34m:\u001b[0m\u001b[0;34m\u001b[0m\u001b[0;34m\u001b[0m\u001b[0m\n",
      "\u001b[0;31mAttributeError\u001b[0m: 'ObjectDetectionModule' object has no attribute '_init'"
     ]
    }
   ],
   "source": [
    "trainer.fit(train_dl, val_data=val_dl)"
   ]
  },
  {
   "cell_type": "code",
   "execution_count": 51,
   "id": "2b866623-8f3e-4034-8c20-8c07ad75eb1d",
   "metadata": {
    "tags": []
   },
   "outputs": [],
   "source": [
    "with torch.no_grad():\n",
    "    obj_detection.val_step(batch)"
   ]
  },
  {
   "cell_type": "code",
   "execution_count": 52,
   "id": "8982a732-611d-46de-bff2-4f04de61bb48",
   "metadata": {
    "tags": []
   },
   "outputs": [],
   "source": [
    "obj_detection.on_val_end()"
   ]
  },
  {
   "cell_type": "code",
   "execution_count": 54,
   "id": "48c7608e-6b73-489a-bdcd-ce5d044391a2",
   "metadata": {
    "tags": []
   },
   "outputs": [
    {
     "data": {
      "text/plain": [
       "{'box_loss': 49.54795295827014,\n",
       " 'classification_loss': 11.735513687133789,\n",
       " 'confidence_loss': 12.811930656433105,\n",
       " 'loss': 74.09539730183704,\n",
       " 'mAP_0.5': 0.0,\n",
       " 'mAP_0.55': 0.0,\n",
       " 'mAP_0.6': 0.0,\n",
       " 'mAP_0.65': 0.0,\n",
       " 'mAP_0.7': 0.0,\n",
       " 'mAP_0.75': 0.0,\n",
       " 'mAP_0.8': 0.0,\n",
       " 'mAP_0.85': 0.0,\n",
       " 'mAP_0.9': 0.0,\n",
       " 'mAP_0.95': 0.0}"
      ]
     },
     "execution_count": 54,
     "metadata": {},
     "output_type": "execute_result"
    }
   ],
   "source": [
    "obj_detection.get_batch_log()"
   ]
  },
  {
   "cell_type": "code",
   "execution_count": 53,
   "id": "06a10bca-7006-4936-9fd7-0f715b308fa3",
   "metadata": {
    "tags": []
   },
   "outputs": [
    {
     "data": {
      "text/plain": [
       "{'box_loss': 49.54795295827014,\n",
       " 'classification_loss': 11.735513687133789,\n",
       " 'confidence_loss': 12.811930656433105,\n",
       " 'loss': 74.09539730183704,\n",
       " 'mAP_0.5': 0.0,\n",
       " 'mAP_0.55': 0.0,\n",
       " 'mAP_0.6': 0.0,\n",
       " 'mAP_0.65': 0.0,\n",
       " 'mAP_0.7': 0.0,\n",
       " 'mAP_0.75': 0.0,\n",
       " 'mAP_0.8': 0.0,\n",
       " 'mAP_0.85': 0.0,\n",
       " 'mAP_0.9': 0.0,\n",
       " 'mAP_0.95': 0.0}"
      ]
     },
     "execution_count": 53,
     "metadata": {},
     "output_type": "execute_result"
    }
   ],
   "source": [
    "obj_detection.get_epoch_log()"
   ]
  }
 ],
 "metadata": {
  "kernelspec": {
   "display_name": "Python 3 (ipykernel)",
   "language": "python",
   "name": "python3"
  },
  "language_info": {
   "codemirror_mode": {
    "name": "ipython",
    "version": 3
   },
   "file_extension": ".py",
   "mimetype": "text/x-python",
   "name": "python",
   "nbconvert_exporter": "python",
   "pygments_lexer": "ipython3",
   "version": "3.7.17"
  }
 },
 "nbformat": 4,
 "nbformat_minor": 5
}
