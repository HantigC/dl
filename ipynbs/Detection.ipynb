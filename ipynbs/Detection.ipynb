{
 "cells": [
  {
   "cell_type": "code",
   "execution_count": 1,
   "id": "133ebaa9-d854-493e-8f6e-474197f7e8c5",
   "metadata": {
    "tags": []
   },
   "outputs": [
    {
     "name": "stdout",
     "output_type": "stream",
     "text": [
      "/environment/Projects/dl\n"
     ]
    }
   ],
   "source": [
    "%cd .."
   ]
  },
  {
   "cell_type": "code",
   "execution_count": 2,
   "id": "d5d04bd5-d442-445a-becb-9c9d8bd8d5c6",
   "metadata": {
    "tags": []
   },
   "outputs": [
    {
     "name": "stdout",
     "output_type": "stream",
     "text": [
      "Processing ./deps/configfy-build\n",
      "  Installing build dependencies ... \u001b[?25ldone\n",
      "\u001b[?25h  Getting requirements to build wheel ... \u001b[?25ldone\n",
      "\u001b[?25h  Installing backend dependencies ... \u001b[?25ldone\n",
      "\u001b[?25h  Preparing metadata (pyproject.toml) ... \u001b[?25ldone\n",
      "\u001b[?25hBuilding wheels for collected packages: configfy-build\n",
      "  Building wheel for configfy-build (pyproject.toml) ... \u001b[?25ldone\n",
      "\u001b[?25h  Created wheel for configfy-build: filename=configfy_build-0.0.1-py3-none-any.whl size=2954 sha256=11908df93e94a23261f489de55b64f755d5fd2c581f73fd6095bcd59bbc27122\n",
      "  Stored in directory: /home/stefan-cristianhantig/.cache/pip/wheels/18/58/ab/c7d510ca549c784c51bd5f5aa15d5d254efc9c365944543f60\n",
      "Successfully built configfy-build\n",
      "Installing collected packages: configfy-build\n",
      "  Attempting uninstall: configfy-build\n",
      "    Found existing installation: configfy-build 0.0.1\n",
      "    Uninstalling configfy-build-0.0.1:\n",
      "      Successfully uninstalled configfy-build-0.0.1\n",
      "Successfully installed configfy-build-0.0.1\n"
     ]
    }
   ],
   "source": [
    "! python -m pip install deps/configfy-build/"
   ]
  },
  {
   "cell_type": "code",
   "execution_count": 2,
   "id": "eace6b35-d3d1-452c-ad48-1bb53387a899",
   "metadata": {
    "tags": []
   },
   "outputs": [
    {
     "name": "stdout",
     "output_type": "stream",
     "text": [
      "light-torch              0.0.1\n",
      "torch                    1.13.1\n",
      "torchsummary             1.5.1\n",
      "torchvision              0.14.1\n"
     ]
    }
   ],
   "source": [
    "!python -m pip list | grep torch"
   ]
  },
  {
   "cell_type": "code",
   "execution_count": 3,
   "id": "6ab479a4-166f-4d1b-b6bf-966016542236",
   "metadata": {
    "tags": []
   },
   "outputs": [
    {
     "name": "stdout",
     "output_type": "stream",
     "text": [
      "Processing ./deps/light-torch\n",
      "  Installing build dependencies ... \u001b[?25ldone\n",
      "\u001b[?25h  Getting requirements to build wheel ... \u001b[?25ldone\n",
      "\u001b[?25h  Installing backend dependencies ... \u001b[?25ldone\n",
      "\u001b[?25h  Preparing metadata (pyproject.toml) ... \u001b[?25ldone\n",
      "\u001b[?25hBuilding wheels for collected packages: light-torch\n",
      "  Building wheel for light-torch (pyproject.toml) ... \u001b[?25ldone\n",
      "\u001b[?25h  Created wheel for light-torch: filename=light_torch-0.0.1-py3-none-any.whl size=4741 sha256=85186387c6b3715842a276e87ede1b92cefa5fe2d161928d45b3e46cec7745a8\n",
      "  Stored in directory: /home/stefan-cristianhantig/.cache/pip/wheels/76/4b/a5/ce53c36ade717c024783dce5309d843ab5a592d06a292dafc2\n",
      "Successfully built light-torch\n",
      "Installing collected packages: light-torch\n",
      "  Attempting uninstall: light-torch\n",
      "    Found existing installation: light-torch 0.0.1\n",
      "    Uninstalling light-torch-0.0.1:\n",
      "      Successfully uninstalled light-torch-0.0.1\n",
      "Successfully installed light-torch-0.0.1\n"
     ]
    }
   ],
   "source": [
    "! python -m pip install deps/light-torch/"
   ]
  },
  {
   "cell_type": "code",
   "execution_count": 4,
   "id": "67bb09c6-a77d-487f-920f-e58c694cf151",
   "metadata": {
    "tags": []
   },
   "outputs": [
    {
     "name": "stdout",
     "output_type": "stream",
     "text": [
      "Requirement already satisfied: torchsummary in /home/stefan-cristianhantig/.python_envs/default/lib/python3.7/site-packages (1.5.1)\n"
     ]
    }
   ],
   "source": [
    "! python -m pip install torchsummary"
   ]
  },
  {
   "cell_type": "code",
   "execution_count": 2,
   "id": "32c98d63-40eb-4d91-a5eb-aebd100eb873",
   "metadata": {
    "tags": []
   },
   "outputs": [],
   "source": [
    "from src.object_detection.yolov1 import YoloV1Backbone, YoloV1"
   ]
  },
  {
   "cell_type": "code",
   "execution_count": 3,
   "id": "c3bac333-08d3-4fd7-8acb-6b67e54a9a0d",
   "metadata": {
    "tags": []
   },
   "outputs": [],
   "source": [
    "from src.classification.models.resnet import Resnet"
   ]
  },
  {
   "cell_type": "code",
   "execution_count": 4,
   "id": "128f34d4-3264-498a-aa68-3e35ff9041c9",
   "metadata": {
    "tags": []
   },
   "outputs": [],
   "source": [
    "from torchsummary import summary"
   ]
  },
  {
   "cell_type": "code",
   "execution_count": 5,
   "id": "3af07f10-5dc6-44b4-84d8-54a3520e02b8",
   "metadata": {
    "tags": []
   },
   "outputs": [],
   "source": [
    "import json"
   ]
  },
  {
   "cell_type": "code",
   "execution_count": 6,
   "id": "f687527d-f21f-4ba1-b5cc-96b9c6d9f9b8",
   "metadata": {
    "tags": []
   },
   "outputs": [],
   "source": [
    "ANNOTATION_FILE = \"resources/object_detection/annotations/instances_train2014.json\""
   ]
  },
  {
   "cell_type": "code",
   "execution_count": 7,
   "id": "ce58ee84-0bc9-424b-a8b6-8493454dad45",
   "metadata": {
    "tags": []
   },
   "outputs": [],
   "source": [
    "with open(ANNOTATION_FILE, \"r\") as json_file:\n",
    "    coco = json.load(json_file)"
   ]
  },
  {
   "cell_type": "code",
   "execution_count": 8,
   "id": "19faaee1-467b-4189-bd1b-c7fed0983522",
   "metadata": {
    "tags": []
   },
   "outputs": [],
   "source": [
    "import cv2"
   ]
  },
  {
   "cell_type": "code",
   "execution_count": 9,
   "id": "db80bd9a-72bb-4120-9fd9-7b7a7f83db70",
   "metadata": {
    "tags": []
   },
   "outputs": [],
   "source": [
    "from pathlib import Path"
   ]
  },
  {
   "cell_type": "code",
   "execution_count": 10,
   "id": "34a1815e-b348-4b88-98c4-499adca16a69",
   "metadata": {
    "tags": []
   },
   "outputs": [],
   "source": [
    "import matplotlib.pyplot as plt"
   ]
  },
  {
   "cell_type": "code",
   "execution_count": 11,
   "id": "1b02f16e-6c96-4274-a8b1-bd5fea642111",
   "metadata": {
    "tags": []
   },
   "outputs": [],
   "source": [
    "IMAGES_PATH = Path(\"./resources/object_detection/train2014/\")"
   ]
  },
  {
   "cell_type": "code",
   "execution_count": 12,
   "id": "4e13e92a-a582-4645-9ee5-6b826cdbe3ad",
   "metadata": {
    "tags": []
   },
   "outputs": [],
   "source": [
    "import numpy as np"
   ]
  },
  {
   "cell_type": "code",
   "execution_count": 13,
   "id": "a6997ccf-1871-4cac-8b52-001b1d071d4c",
   "metadata": {
    "tags": []
   },
   "outputs": [],
   "source": [
    "from torch.utils.data.dataset import Dataset"
   ]
  },
  {
   "cell_type": "code",
   "execution_count": 14,
   "id": "9638bfe6-fde6-4576-9e88-300ba6c7ae44",
   "metadata": {
    "tags": []
   },
   "outputs": [],
   "source": [
    "from functools import lru_cache"
   ]
  },
  {
   "cell_type": "code",
   "execution_count": 15,
   "id": "457bef63-957f-4f33-8802-2e4f1988a122",
   "metadata": {
    "tags": []
   },
   "outputs": [],
   "source": [
    "from torchvision.transforms import Compose"
   ]
  },
  {
   "cell_type": "code",
   "execution_count": 16,
   "id": "e15c0dd9-8992-41fb-9548-6428f57ffb9c",
   "metadata": {
    "tags": []
   },
   "outputs": [],
   "source": [
    "from IPython.core.debugger import set_trace"
   ]
  },
  {
   "cell_type": "code",
   "execution_count": 17,
   "id": "be8cc67f-0e92-444b-b189-5b8b04db1a3c",
   "metadata": {
    "tags": []
   },
   "outputs": [],
   "source": [
    "from src.object_detection.data.coco import CocoDetectionDataset, make_id2category_map"
   ]
  },
  {
   "cell_type": "code",
   "execution_count": 18,
   "id": "89d56862-f2d4-442e-bb38-801022203284",
   "metadata": {
    "tags": []
   },
   "outputs": [],
   "source": [
    "from src.object_detection.utils.visualization import draw_bbox_xyhw, draw_rect_xywh_, draw_grid_"
   ]
  },
  {
   "cell_type": "code",
   "execution_count": 19,
   "id": "517404dd-6c4d-4d94-83a6-7154d33f5c27",
   "metadata": {
    "tags": []
   },
   "outputs": [],
   "source": [
    "import torch"
   ]
  },
  {
   "cell_type": "code",
   "execution_count": 20,
   "id": "6ea0f96d-ca4a-4a05-a18a-f29300627dcc",
   "metadata": {
    "tags": []
   },
   "outputs": [],
   "source": [
    "from src.object_detection.module import Module"
   ]
  },
  {
   "cell_type": "code",
   "execution_count": 60,
   "id": "15c24955-1b6c-4d29-b9ba-d4c9af004e17",
   "metadata": {
    "tags": []
   },
   "outputs": [],
   "source": [
    "from src.transform import to_rgb, to_torch, resize"
   ]
  },
  {
   "cell_type": "code",
   "execution_count": 28,
   "id": "68d744c3-a9b0-460e-994e-7467e03cca6b",
   "metadata": {
    "tags": []
   },
   "outputs": [],
   "source": [
    "def convert_to_torch(x):\n",
    "    if not isinstance(x, np.ndarray):\n",
    "        x = np.array(x)\n",
    "    return torch.from_numpy(x)"
   ]
  },
  {
   "cell_type": "code",
   "execution_count": 29,
   "id": "3c216c8e-5579-4fb1-8cbd-a70a17af465b",
   "metadata": {
    "tags": []
   },
   "outputs": [],
   "source": [
    "def target_to_torch(target):\n",
    "    if isinstance(target, dict):\n",
    "        return {k: convert_to_torch(t) for k, t in target.items()}\n",
    "    return convert_to_torch(target)"
   ]
  },
  {
   "cell_type": "code",
   "execution_count": 22,
   "id": "086c6a96-adec-4b67-b173-5f144d554d7f",
   "metadata": {
    "tags": []
   },
   "outputs": [],
   "source": [
    "img_transform = Compose([\n",
    "    to_torch,\n",
    "])"
   ]
  },
  {
   "cell_type": "code",
   "execution_count": 30,
   "id": "8cbec879-d6f6-474e-aaec-656832262fb7",
   "metadata": {
    "tags": []
   },
   "outputs": [],
   "source": [
    "coco_ds = CocoDetectionDataset(\n",
    "    coco, \n",
    "    \"resources/object_detection/train2014/\",\n",
    "    transform=to_torch,\n",
    "    target_transform=target_to_torch,\n",
    "    \n",
    ")"
   ]
  },
  {
   "cell_type": "code",
   "execution_count": 31,
   "id": "09944d82-3724-4fd2-a4b0-a4589a58e7c5",
   "metadata": {
    "tags": []
   },
   "outputs": [],
   "source": [
    "num_classes = len(coco_ds.coco_dict[\"categories\"])"
   ]
  },
  {
   "cell_type": "code",
   "execution_count": 32,
   "id": "9844f5ec-12b2-48e9-9083-1755a5c0650b",
   "metadata": {
    "tags": []
   },
   "outputs": [],
   "source": [
    "#resnet = Resnet()\n",
    "yolo = YoloV1(num_classes)"
   ]
  },
  {
   "cell_type": "code",
   "execution_count": 33,
   "id": "d7b67a72-e139-472d-be25-007d9095dbae",
   "metadata": {
    "tags": []
   },
   "outputs": [
    {
     "name": "stdout",
     "output_type": "stream",
     "text": [
      "CPU times: user 21.3 ms, sys: 7.15 ms, total: 28.5 ms\n",
      "Wall time: 26 ms\n"
     ]
    }
   ],
   "source": [
    "%%time\n",
    "img1, annotation_dict1 = coco_ds[0]\n",
    "img2, annotation_dict2 = coco_ds[5]"
   ]
  },
  {
   "cell_type": "code",
   "execution_count": 34,
   "id": "6c0a7fe8-67bc-4dcf-b88d-8b567f118452",
   "metadata": {
    "tags": []
   },
   "outputs": [],
   "source": [
    "batch = [\n",
    "    (img1, annotation_dict1),\n",
    "    (img2, annotation_dict2),\n",
    "]"
   ]
  },
  {
   "cell_type": "code",
   "execution_count": 35,
   "id": "e838b06a-be5a-4a1d-b700-c40436f10a46",
   "metadata": {
    "tags": []
   },
   "outputs": [],
   "source": [
    "def transpose(xss):\n",
    "    return list(zip(*xss))"
   ]
  },
  {
   "cell_type": "code",
   "execution_count": 36,
   "id": "936b2f4d-a8db-44c5-a4aa-1bf7e2ee6675",
   "metadata": {
    "tags": []
   },
   "outputs": [],
   "source": [
    "from torch.nn import functional as F"
   ]
  },
  {
   "cell_type": "code",
   "execution_count": 37,
   "id": "7d78b7b5-17df-4a98-b1cc-fa205ff05946",
   "metadata": {
    "tags": []
   },
   "outputs": [],
   "source": [
    "from collections import defaultdict"
   ]
  },
  {
   "cell_type": "code",
   "execution_count": 130,
   "id": "446bb204-0ed2-4dab-8729-1dc6d6aa9c7e",
   "metadata": {
    "tags": []
   },
   "outputs": [],
   "source": [
    "def pad_collate(batch):\n",
    "    imgs, targets = transpose(batch)\n",
    "    _, h_max, w_max = np.max([np.array(img.shape) for img in imgs], axis=0)\n",
    "    padded_imgs = []\n",
    "    \n",
    "    padded_targets = defaultdict(list)\n",
    "    for img, target in zip(imgs, targets):\n",
    "        target = target_to_torch(target)\n",
    "        _, h, w = img.shape\n",
    "        pad_h, pad_w = h_max - h, w_max - w\n",
    "        img = F.pad(img, (0, pad_w, 0, pad_h), \"constant\", 0)\n",
    "        padded_imgs.append(img)\n",
    "        if len(target):\n",
    "            target[\"boxes\"] = target[\"boxes\"] * torch.from_numpy(np.array([h / h_max, w/w_max, h/h_max, w/w_max]))\n",
    "        for name, v in target.items():\n",
    "            padded_targets[name].append(v)\n",
    "        \n",
    "    \n",
    "    imgs = torch.stack(padded_imgs)\n",
    "    return imgs, padded_targets\n",
    "    "
   ]
  },
  {
   "cell_type": "code",
   "execution_count": 131,
   "id": "834a1a8a-26b7-433a-9f08-b8b37cc59196",
   "metadata": {
    "tags": []
   },
   "outputs": [],
   "source": [
    "from torch.utils.data.dataloader import DataLoader"
   ]
  },
  {
   "cell_type": "code",
   "execution_count": 132,
   "id": "b397367a-28e1-463a-bd18-7a183825c3ec",
   "metadata": {
    "tags": []
   },
   "outputs": [],
   "source": [
    "ds_dl = DataLoader(coco_ds, collate_fn=pad_collate, batch_size=2, shuffle=True)"
   ]
  },
  {
   "cell_type": "code",
   "execution_count": 133,
   "id": "bb4a5f4a-97ee-4965-aa46-6698a88081e0",
   "metadata": {
    "tags": []
   },
   "outputs": [],
   "source": [
    "from src.object_detection.yolov1 import YoloV1Loss"
   ]
  },
  {
   "cell_type": "code",
   "execution_count": 134,
   "id": "a0e0afbb-b78b-4cce-8b01-ca43e16ae48a",
   "metadata": {
    "tags": []
   },
   "outputs": [],
   "source": [
    "yolov1_loss = YoloV1Loss()"
   ]
  },
  {
   "cell_type": "code",
   "execution_count": 135,
   "id": "206dd616-9547-4e57-9167-c8e0c5d3c946",
   "metadata": {
    "tags": []
   },
   "outputs": [],
   "source": [
    "from collections import defaultdict"
   ]
  },
  {
   "cell_type": "code",
   "execution_count": 136,
   "id": "5df3ba48-412b-42d0-824e-3d1582e7b436",
   "metadata": {
    "tags": []
   },
   "outputs": [],
   "source": [
    "def transpos_dict(dict_list):\n",
    "    list_dict = defaultdict(list)\n",
    "    for d in dict_list:\n",
    "        for k, v in d.items():\n",
    "            list_dict[k].append(v)\n",
    "    return list_dict"
   ]
  },
  {
   "cell_type": "code",
   "execution_count": 137,
   "id": "4f11e5cd-ae6c-46ad-84c1-b05025dd00e0",
   "metadata": {
    "tags": []
   },
   "outputs": [],
   "source": [
    "def pad_images_by_hw(img, max_h, max_w):\n",
    "    c, h, w = img.shape\n",
    "    pad_h = max_h - h\n",
    "    pad_w = max_w - w\n",
    "    return F.pad(img, (0, pad_w, 0, pad_h), \"constant\", 0)"
   ]
  },
  {
   "cell_type": "code",
   "execution_count": 138,
   "id": "681097bc-afb4-4524-9e7f-1518c9b62205",
   "metadata": {
    "tags": []
   },
   "outputs": [],
   "source": [
    "from src.object_detection.yolov1 import YoloV1Loss"
   ]
  },
  {
   "cell_type": "code",
   "execution_count": 139,
   "id": "25a5f14f-db67-4410-90bf-e91340b175ea",
   "metadata": {
    "tags": []
   },
   "outputs": [],
   "source": [
    "yv1_loss = YoloV1Loss()"
   ]
  },
  {
   "cell_type": "code",
   "execution_count": 140,
   "id": "cf0f0ba4-3e61-4f59-a6e7-67a608e2a46d",
   "metadata": {
    "tags": []
   },
   "outputs": [],
   "source": [
    "from light_torch.train import Trainer"
   ]
  },
  {
   "cell_type": "code",
   "execution_count": 141,
   "id": "64e3d371-13ef-4764-939e-c2e967867c6e",
   "metadata": {
    "tags": []
   },
   "outputs": [],
   "source": [
    "from src.object_detection.module import ObjectDetectionModule"
   ]
  },
  {
   "cell_type": "code",
   "execution_count": 142,
   "id": "ff7d8201-142a-4aed-8464-39bcc512290e",
   "metadata": {
    "tags": []
   },
   "outputs": [],
   "source": [
    "obj_detection = ObjectDetectionModule(yolo, yolov1_loss, coco_ds.id2name_map)"
   ]
  },
  {
   "cell_type": "code",
   "execution_count": 143,
   "id": "7b496106-98b7-4e20-b698-c3fa13818aed",
   "metadata": {
    "tags": []
   },
   "outputs": [],
   "source": [
    "trainer = Trainer(obj_detection)"
   ]
  },
  {
   "cell_type": "code",
   "execution_count": 144,
   "id": "1c5d8e6f-afe4-4cb4-a224-dcf2d6e3adbc",
   "metadata": {
    "tags": []
   },
   "outputs": [],
   "source": [
    "optimizer = torch.optim.SGD(obj_detection.parameters(), lr=0.001)"
   ]
  },
  {
   "cell_type": "code",
   "execution_count": null,
   "id": "42c5017b-85b9-4490-aefb-8461ac6bba1d",
   "metadata": {
    "tags": []
   },
   "outputs": [
    {
     "data": {
      "application/vnd.jupyter.widget-view+json": {
       "model_id": "8e53830aa0ea4239ba3083438a64f19e",
       "version_major": 2,
       "version_minor": 0
      },
      "text/plain": [
       "Train epoch  001:   0%|          | 0/41392 [00:00<?, ?it/s]"
      ]
     },
     "metadata": {},
     "output_type": "display_data"
    }
   ],
   "source": [
    "trainer.fit(optimizer, 1, ds_dl)"
   ]
  }
 ],
 "metadata": {
  "kernelspec": {
   "display_name": "Python 3 (ipykernel)",
   "language": "python",
   "name": "python3"
  },
  "language_info": {
   "codemirror_mode": {
    "name": "ipython",
    "version": 3
   },
   "file_extension": ".py",
   "mimetype": "text/x-python",
   "name": "python",
   "nbconvert_exporter": "python",
   "pygments_lexer": "ipython3",
   "version": "3.7.17"
  }
 },
 "nbformat": 4,
 "nbformat_minor": 5
}
