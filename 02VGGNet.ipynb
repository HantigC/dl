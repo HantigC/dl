{
 "cells": [
  {
   "cell_type": "code",
   "execution_count": 16,
   "id": "4b99c0fc-f8e4-4e7d-81d9-bd573aab161b",
   "metadata": {},
   "outputs": [],
   "source": [
    "from collections import defaultdict\n",
    "import math\n",
    "import queue\n",
    "from itertools import cycle, chain, islice\n",
    "from pprint import pprint\n",
    "from IPython.core.debugger import set_trace\n",
    "\n",
    "import torch\n",
    "from torch import nn\n",
    "from torch.nn import functional as F\n",
    "from torch.utils.data import DataLoader\n",
    "from tqdm.auto import tqdm\n",
    "import torchvision.datasets as datasets\n",
    "import numpy as np\n",
    "import cv2\n",
    "import matplotlib.pyplot as plt\n",
    "from torchvision.transforms import Compose\n",
    "\n",
    "from src.classification.models.alexnet import AlexNet\n",
    "from src.classification.models.vgg import VGGBlock, make_vgg_11_a\n"
   ]
  },
  {
   "cell_type": "code",
   "execution_count": 10,
   "id": "fad044ee-e634-4b2c-8bbb-04950e2d280c",
   "metadata": {},
   "outputs": [],
   "source": [
    "%matplotlib widget\n",
    "%load_ext autoreload\n",
    "%autoreload 2"
   ]
  },
  {
   "cell_type": "code",
   "execution_count": 53,
   "id": "a92ad33b-ddd1-408c-83dd-411d6c82d7e1",
   "metadata": {},
   "outputs": [],
   "source": [
    "vgg_11 = make_vgg_11_a(10)"
   ]
  },
  {
   "cell_type": "code",
   "execution_count": 54,
   "id": "f11d09ce-44a4-4721-b8e2-de0d5fe3f40e",
   "metadata": {},
   "outputs": [],
   "source": [
    "cuda = torch.device(\"cuda:1\")"
   ]
  },
  {
   "cell_type": "code",
   "execution_count": 55,
   "id": "8178af0f-8025-448f-8377-f1b024b98e64",
   "metadata": {},
   "outputs": [],
   "source": [
    "vgg_11 = vgg_11.to(cuda)"
   ]
  },
  {
   "cell_type": "code",
   "execution_count": 60,
   "id": "467bc1dd-492f-4778-b614-42ceda78dcde",
   "metadata": {},
   "outputs": [
    {
     "data": {
      "text/plain": [
       "torch.Size([10, 10])"
      ]
     },
     "execution_count": 60,
     "metadata": {},
     "output_type": "execute_result"
    }
   ],
   "source": [
    "vgg_11(torch.rand(10, 3, 244, 244).to(cuda)).shape"
   ]
  }
 ],
 "metadata": {
  "kernelspec": {
   "display_name": "Python 3 (ipykernel)",
   "language": "python",
   "name": "python3"
  },
  "language_info": {
   "codemirror_mode": {
    "name": "ipython",
    "version": 3
   },
   "file_extension": ".py",
   "mimetype": "text/x-python",
   "name": "python",
   "nbconvert_exporter": "python",
   "pygments_lexer": "ipython3",
   "version": "3.7.14"
  }
 },
 "nbformat": 4,
 "nbformat_minor": 5
}
